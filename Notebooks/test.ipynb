{
 "cells": [
  {
   "cell_type": "code",
   "execution_count": 1,
   "metadata": {
    "ExecuteTime": {
     "end_time": "2018-11-28T04:18:21.850043Z",
     "start_time": "2018-11-28T04:18:20.910340Z"
    }
   },
   "outputs": [],
   "source": [
    "%matplotlib notebook\n",
    "import pandas as pd\n",
    "import os\n",
    "import numpy as np\n",
    "import re\n",
    "from scipy.spatial import ConvexHull\n",
    "from mpl_toolkits.mplot3d import Axes3D  # noqa: F401 unused import\n",
    "import matplotlib.pyplot as plt"
   ]
  },
  {
   "cell_type": "code",
   "execution_count": 2,
   "metadata": {
    "ExecuteTime": {
     "end_time": "2018-11-28T04:18:21.879692Z",
     "start_time": "2018-11-28T04:18:21.857974Z"
    }
   },
   "outputs": [],
   "source": [
    "coordinates = (2, 2, 2)\n",
    "dimensions = (3, 3, 3)\n",
    "atp = ('NH3+',)\n",
    "directory = '../Datasets/TP'\n",
    "step = 0.5"
   ]
  },
  {
   "cell_type": "code",
   "execution_count": 3,
   "metadata": {
    "ExecuteTime": {
     "end_time": "2018-11-28T04:18:21.911932Z",
     "start_time": "2018-11-28T04:18:21.887052Z"
    },
    "scrolled": false
   },
   "outputs": [
    {
     "data": {
      "text/plain": [
       "['ff33nb.itp',\n",
       " 'ff1nb.itp',\n",
       " '25_PAC.gro',\n",
       " '23.top',\n",
       " '28_PAC.gro',\n",
       " '14.top',\n",
       " '3.top',\n",
       " 'ff7nb.itp',\n",
       " '8_PAC.gro',\n",
       " 'ff36nb.itp',\n",
       " '33.top',\n",
       " '24_PAC.gro',\n",
       " '20.top',\n",
       " '19.top',\n",
       " '25.top',\n",
       " 'ff3nb.itp',\n",
       " '5.top',\n",
       " '15.top',\n",
       " '14_PAC.gro',\n",
       " 'ff29nb.itp',\n",
       " '4_PAC.gro',\n",
       " 'ff10nb.itp',\n",
       " '27.top',\n",
       " 'ff25nb.itp',\n",
       " 'ff24nb.itp',\n",
       " 'ff13nb.itp',\n",
       " 'ff32nb.itp',\n",
       " 'ff5nb.itp',\n",
       " 'ff31nb.itp',\n",
       " 'ff28nb.itp',\n",
       " '17.top',\n",
       " '31_PAC.gro',\n",
       " '7.top',\n",
       " '2.top',\n",
       " 'ff4nb.itp',\n",
       " 'ff20nb.itp',\n",
       " 'ff34nb.itp',\n",
       " 'ff15nb.itp',\n",
       " '29.top',\n",
       " 'ff19nb.itp',\n",
       " '12_PAC.gro',\n",
       " '27_PAC.gro',\n",
       " 'ff16nb.itp',\n",
       " '12.top',\n",
       " '22.top',\n",
       " '21_PAC.gro',\n",
       " '15_PAC.gro',\n",
       " '8.top',\n",
       " '35.top',\n",
       " '24.top',\n",
       " '20_PAC.gro',\n",
       " '32_PAC.gro',\n",
       " '9.top',\n",
       " 'ff6nb.itp',\n",
       " '6.top',\n",
       " 'ff30nb.itp',\n",
       " '13.top',\n",
       " '5_PAC.gro',\n",
       " '17_PAC.gro',\n",
       " '3_PAC.gro',\n",
       " '37_PAC.gro',\n",
       " '18.top',\n",
       " '7_PAC.gro',\n",
       " 'ff12nb.itp',\n",
       " '28.top',\n",
       " '10.top',\n",
       " '31.top',\n",
       " 'ff23nb.itp',\n",
       " '9_PAC.gro',\n",
       " 'ff18nb.itp',\n",
       " '30_PAC.gro',\n",
       " '22_PAC.gro',\n",
       " '26_PAC.gro',\n",
       " '2_PAC.gro',\n",
       " '11_PAC.gro',\n",
       " '33_PAC.gro',\n",
       " '29_PAC.gro',\n",
       " 'ff26nb.itp',\n",
       " 'ff2nb.itp',\n",
       " '16.top',\n",
       " '10_PAC.gro',\n",
       " '1_PAC.gro',\n",
       " '36_PAC.gro',\n",
       " '11.top',\n",
       " '26.top',\n",
       " '21.top',\n",
       " 'ff27nb.itp',\n",
       " '36.top',\n",
       " '16_PAC.gro',\n",
       " 'ff8nb.itp',\n",
       " 'ff17nb.itp',\n",
       " '1.top',\n",
       " '4.top',\n",
       " '34.top',\n",
       " '19_PAC.gro',\n",
       " '23_PAC.gro',\n",
       " '30.top',\n",
       " 'ff35nb.itp',\n",
       " 'ff11nb.itp',\n",
       " '37.top',\n",
       " '6_PAC.gro',\n",
       " 'ff21nb.itp',\n",
       " 'ff22nb.itp',\n",
       " '18_PAC.gro',\n",
       " '32.top',\n",
       " '34_PAC.gro',\n",
       " 'ff37nb.itp',\n",
       " 'ff14nb.itp',\n",
       " 'ff9nb.itp',\n",
       " '13_PAC.gro',\n",
       " '35_PAC.gro']"
      ]
     },
     "execution_count": 3,
     "metadata": {},
     "output_type": "execute_result"
    }
   ],
   "source": [
    "dataFile = os.listdir(directory)\n",
    "dataFile"
   ]
  },
  {
   "cell_type": "code",
   "execution_count": 4,
   "metadata": {
    "ExecuteTime": {
     "end_time": "2018-11-28T04:18:21.953897Z",
     "start_time": "2018-11-28T04:18:21.927465Z"
    }
   },
   "outputs": [],
   "source": [
    "n_pat = re.compile(r'(.*[0-9]+).+')"
   ]
  },
  {
   "cell_type": "code",
   "execution_count": 5,
   "metadata": {
    "ExecuteTime": {
     "end_time": "2018-11-28T04:18:21.977353Z",
     "start_time": "2018-11-28T04:18:21.957962Z"
    }
   },
   "outputs": [],
   "source": [
    "def sort_replace(x):\n",
    "    return n_pat.search(x).group(1)"
   ]
  },
  {
   "cell_type": "code",
   "execution_count": 6,
   "metadata": {
    "ExecuteTime": {
     "end_time": "2018-11-28T04:18:22.003575Z",
     "start_time": "2018-11-28T04:18:21.982836Z"
    },
    "scrolled": true
   },
   "outputs": [
    {
     "data": {
      "text/plain": [
       "['1_PAC',\n",
       " '10_PAC',\n",
       " '11_PAC',\n",
       " '12_PAC',\n",
       " '13_PAC',\n",
       " '14_PAC',\n",
       " '15_PAC',\n",
       " '16_PAC',\n",
       " '17_PAC',\n",
       " '18_PAC',\n",
       " '19_PAC',\n",
       " '2_PAC',\n",
       " '20_PAC',\n",
       " '21_PAC',\n",
       " '22_PAC',\n",
       " '23_PAC',\n",
       " '24_PAC',\n",
       " '25_PAC',\n",
       " '26_PAC',\n",
       " '27_PAC',\n",
       " '28_PAC',\n",
       " '29_PAC',\n",
       " '3_PAC',\n",
       " '30_PAC',\n",
       " '31_PAC',\n",
       " '32_PAC',\n",
       " '33_PAC',\n",
       " '34_PAC',\n",
       " '35_PAC',\n",
       " '36_PAC',\n",
       " '37_PAC',\n",
       " '4_PAC',\n",
       " '5_PAC',\n",
       " '6_PAC',\n",
       " '7_PAC',\n",
       " '8_PAC',\n",
       " '9_PAC']"
      ]
     },
     "execution_count": 6,
     "metadata": {},
     "output_type": "execute_result"
    }
   ],
   "source": [
    "molecules = [x.replace('.gro', '') for x in dataFile if x.endswith('gro')]\n",
    "molecules.sort(key=sort_replace)\n",
    "molecules"
   ]
  },
  {
   "cell_type": "code",
   "execution_count": 7,
   "metadata": {
    "ExecuteTime": {
     "end_time": "2018-11-28T04:18:22.022515Z",
     "start_time": "2018-11-28T04:18:22.012359Z"
    }
   },
   "outputs": [],
   "source": [
    "dataFile = [directory + '/' + fileName for fileName in dataFile]\n",
    "groFiles = [x for x in dataFile if x.endswith('gro')]\n",
    "groFiles.sort(key=sort_replace)\n",
    "topFiles = [x for x in dataFile if x.endswith('top')]\n",
    "topFiles.sort(key=sort_replace)"
   ]
  },
  {
   "cell_type": "code",
   "execution_count": 8,
   "metadata": {
    "ExecuteTime": {
     "end_time": "2018-11-28T04:18:22.045806Z",
     "start_time": "2018-11-28T04:18:22.030466Z"
    },
    "scrolled": true
   },
   "outputs": [
    {
     "name": "stdout",
     "output_type": "stream",
     "text": [
      "['../Datasets/TP/1_PAC.gro', '../Datasets/TP/10_PAC.gro', '../Datasets/TP/11_PAC.gro', '../Datasets/TP/12_PAC.gro', '../Datasets/TP/13_PAC.gro', '../Datasets/TP/14_PAC.gro', '../Datasets/TP/15_PAC.gro', '../Datasets/TP/16_PAC.gro', '../Datasets/TP/17_PAC.gro', '../Datasets/TP/18_PAC.gro', '../Datasets/TP/19_PAC.gro', '../Datasets/TP/2_PAC.gro', '../Datasets/TP/20_PAC.gro', '../Datasets/TP/21_PAC.gro', '../Datasets/TP/22_PAC.gro', '../Datasets/TP/23_PAC.gro', '../Datasets/TP/24_PAC.gro', '../Datasets/TP/25_PAC.gro', '../Datasets/TP/26_PAC.gro', '../Datasets/TP/27_PAC.gro', '../Datasets/TP/28_PAC.gro', '../Datasets/TP/29_PAC.gro', '../Datasets/TP/3_PAC.gro', '../Datasets/TP/30_PAC.gro', '../Datasets/TP/31_PAC.gro', '../Datasets/TP/32_PAC.gro', '../Datasets/TP/33_PAC.gro', '../Datasets/TP/34_PAC.gro', '../Datasets/TP/35_PAC.gro', '../Datasets/TP/36_PAC.gro', '../Datasets/TP/37_PAC.gro', '../Datasets/TP/4_PAC.gro', '../Datasets/TP/5_PAC.gro', '../Datasets/TP/6_PAC.gro', '../Datasets/TP/7_PAC.gro', '../Datasets/TP/8_PAC.gro', '../Datasets/TP/9_PAC.gro']\n"
     ]
    }
   ],
   "source": [
    "print(groFiles)"
   ]
  },
  {
   "cell_type": "code",
   "execution_count": 9,
   "metadata": {
    "ExecuteTime": {
     "end_time": "2018-11-28T04:18:22.066821Z",
     "start_time": "2018-11-28T04:18:22.053194Z"
    },
    "scrolled": true
   },
   "outputs": [
    {
     "name": "stdout",
     "output_type": "stream",
     "text": [
      "['../Datasets/TP/1.top', '../Datasets/TP/10.top', '../Datasets/TP/11.top', '../Datasets/TP/12.top', '../Datasets/TP/13.top', '../Datasets/TP/14.top', '../Datasets/TP/15.top', '../Datasets/TP/16.top', '../Datasets/TP/17.top', '../Datasets/TP/18.top', '../Datasets/TP/19.top', '../Datasets/TP/2.top', '../Datasets/TP/20.top', '../Datasets/TP/21.top', '../Datasets/TP/22.top', '../Datasets/TP/23.top', '../Datasets/TP/24.top', '../Datasets/TP/25.top', '../Datasets/TP/26.top', '../Datasets/TP/27.top', '../Datasets/TP/28.top', '../Datasets/TP/29.top', '../Datasets/TP/3.top', '../Datasets/TP/30.top', '../Datasets/TP/31.top', '../Datasets/TP/32.top', '../Datasets/TP/33.top', '../Datasets/TP/34.top', '../Datasets/TP/35.top', '../Datasets/TP/36.top', '../Datasets/TP/37.top', '../Datasets/TP/4.top', '../Datasets/TP/5.top', '../Datasets/TP/6.top', '../Datasets/TP/7.top', '../Datasets/TP/8.top', '../Datasets/TP/9.top']\n"
     ]
    }
   ],
   "source": [
    "print(topFiles)"
   ]
  },
  {
   "cell_type": "code",
   "execution_count": 10,
   "metadata": {
    "ExecuteTime": {
     "end_time": "2018-11-28T04:18:22.095004Z",
     "start_time": "2018-11-28T04:18:22.072801Z"
    },
    "scrolled": true
   },
   "outputs": [
    {
     "data": {
      "text/plain": [
       "['../Datasets/TP/ff1nb.itp',\n",
       " '../Datasets/TP/ff10nb.itp',\n",
       " '../Datasets/TP/ff11nb.itp',\n",
       " '../Datasets/TP/ff12nb.itp',\n",
       " '../Datasets/TP/ff13nb.itp',\n",
       " '../Datasets/TP/ff14nb.itp',\n",
       " '../Datasets/TP/ff15nb.itp',\n",
       " '../Datasets/TP/ff16nb.itp',\n",
       " '../Datasets/TP/ff17nb.itp',\n",
       " '../Datasets/TP/ff18nb.itp',\n",
       " '../Datasets/TP/ff19nb.itp',\n",
       " '../Datasets/TP/ff2nb.itp',\n",
       " '../Datasets/TP/ff20nb.itp',\n",
       " '../Datasets/TP/ff21nb.itp',\n",
       " '../Datasets/TP/ff22nb.itp',\n",
       " '../Datasets/TP/ff23nb.itp',\n",
       " '../Datasets/TP/ff24nb.itp',\n",
       " '../Datasets/TP/ff25nb.itp',\n",
       " '../Datasets/TP/ff26nb.itp',\n",
       " '../Datasets/TP/ff27nb.itp',\n",
       " '../Datasets/TP/ff28nb.itp',\n",
       " '../Datasets/TP/ff29nb.itp',\n",
       " '../Datasets/TP/ff3nb.itp',\n",
       " '../Datasets/TP/ff30nb.itp',\n",
       " '../Datasets/TP/ff31nb.itp',\n",
       " '../Datasets/TP/ff32nb.itp',\n",
       " '../Datasets/TP/ff33nb.itp',\n",
       " '../Datasets/TP/ff34nb.itp',\n",
       " '../Datasets/TP/ff35nb.itp',\n",
       " '../Datasets/TP/ff36nb.itp',\n",
       " '../Datasets/TP/ff37nb.itp',\n",
       " '../Datasets/TP/ff4nb.itp',\n",
       " '../Datasets/TP/ff5nb.itp',\n",
       " '../Datasets/TP/ff6nb.itp',\n",
       " '../Datasets/TP/ff7nb.itp',\n",
       " '../Datasets/TP/ff8nb.itp',\n",
       " '../Datasets/TP/ff9nb.itp']"
      ]
     },
     "execution_count": 10,
     "metadata": {},
     "output_type": "execute_result"
    }
   ],
   "source": [
    "itpFiles = [x for x in dataFile if x.endswith('nb.itp')]\n",
    "itpFiles.sort(key=sort_replace)\n",
    "itpFiles"
   ]
  },
  {
   "cell_type": "code",
   "execution_count": 11,
   "metadata": {
    "ExecuteTime": {
     "end_time": "2018-11-28T04:18:22.120779Z",
     "start_time": "2018-11-28T04:18:22.098482Z"
    }
   },
   "outputs": [],
   "source": [
    "import math\n",
    "def Distance(r1, r2):\n",
    "    d = math.sqrt(math.pow(\n",
    "        (r1[0] - r2[0]), 2) + math.pow((r1[1] - r2[1]), 2) + math.pow((r1[2] - r2[2]), 2))\n",
    "    return d"
   ]
  },
  {
   "cell_type": "code",
   "execution_count": 12,
   "metadata": {
    "ExecuteTime": {
     "end_time": "2018-11-28T04:18:22.256038Z",
     "start_time": "2018-11-28T04:18:22.130681Z"
    },
    "code_folding": [
     0
    ]
   },
   "outputs": [],
   "source": [
    "class MatrixGenerate():\n",
    "\n",
    "    def __init__(self, fileGro, fileTop, fileItp):\n",
    "        self.setX(fileGro)\n",
    "        self.atomsTypes(fileTop)\n",
    "        self.loadConstants(fileItp)\n",
    "        self.loadAP()\n",
    "        self.determineConstants()\n",
    "\n",
    "    def setX(self, fileName):\n",
    "     \n",
    "        self.fileNameHeader=os.path.splitext(os.path.basename(fileName))[0];\n",
    "        with open(fileName) as f:\n",
    "            input = f.readlines()\n",
    "        currentLine = 1 #linha 1 do arquivo gro contem o numero de atomos\n",
    "        line = input[currentLine]\n",
    "\n",
    "        # coordenadas dos atomos\n",
    "        x = []\n",
    "        y = []\n",
    "        z = []\n",
    "        self.numberElements = int(input[currentLine])\n",
    "        self.c6 = []\n",
    "        self.c12 = []\n",
    "\n",
    "        while True:\n",
    "            for i in range(self.numberElements):\n",
    "                currentToken = 3 #as coordenadas dos atomos comecam a partir da quarta coluna do arquivo\n",
    "                currentLine += 1 #pula uma linha para chegar na primeira linha com coordenadas dos atomos\n",
    "                line = input[currentLine]\n",
    "\n",
    "                #tokens = re.findall(r\"[\\w\\.']+\", line)\n",
    "                tokens = line.split()\n",
    "                x.insert(i, tokens[currentToken])\n",
    "                currentToken += 1\n",
    "                y.insert(i, tokens[currentToken])\n",
    "                currentToken += 1\n",
    "                z.insert(i, tokens[currentToken])\n",
    "\n",
    "            currentLine += 1\n",
    "            if len(input) > currentLine + 1:\n",
    "                currentLine += 1 # se nao chegou ao fim do arquivo pula uma linha a mais para ir para o proximo frame da dinamica\n",
    "            else:\n",
    "                break\n",
    "\n",
    "            currentLine += 1\n",
    "\n",
    "        self.m = len(x) # numero de linhas da matriz gerada\n",
    "        # cria-se matriz com 3 linhas (uma para cada coordenada x,y e z) e as colunas como coordenadas\n",
    "#         self.X = [[0 for self.X in range(3)] for self.X in range(self.m)]\n",
    "        self.X = np.empty(shape=(self.m, 3))\n",
    "\n",
    "#         self.minimos = [float(x[0]) * 10, float(y[0]) * 10, float(z[0]) * 10]\n",
    "#         self.maximos = [float(x[0]) * 10, float(y[0]) * 10, float(z[0]) * 10]\n",
    "        for i in range(self.m):\n",
    "            self.X[i][0] = float(x[i]) * 10\n",
    "            self.X[i][1] = float(y[i]) * 10\n",
    "            self.X[i][2] = float(z[i]) * 10\n",
    "#             self.minimos[0] = min(self.minimos[0], self.X[i][0])\n",
    "#             self.minimos[1] = min(self.minimos[1], self.X[i][1])\n",
    "#             self.minimos[2] = min(self.minimos[2], self.X[i][2])\n",
    "#             self.maximos[0] = max(self.maximos[0], self.X[i][0])\n",
    "#             self.maximos[1] = max(self.maximos[1], self.X[i][1])\n",
    "#             self.maximos[2] = max(self.maximos[2], self.X[i][2])\n",
    "        self.minimos = np.amin(self.X, axis=0)\n",
    "        self.maximos = np.amax(self.X, axis=0)\n",
    "\n",
    "    def atomsTypes(self, fileName):\n",
    "        self.types = []\n",
    "        self.cargas = []\n",
    "        with open(fileName) as f:\n",
    "            line = f.readline()\n",
    "            while '[ atoms ]' not in line:\n",
    "                line = f.readline()\n",
    "                \n",
    "            next(f)\n",
    "            for i in range(self.numberElements):\n",
    "                line = f.readline()\n",
    "                atoms = line.split()\n",
    "                self.types.append(atoms[1])\n",
    "                self.cargas.append(float(atoms[6]))\n",
    "\n",
    "    def loadConstants(self, fileName):\n",
    "        self.typeConstants = []\n",
    "        sigma = []\n",
    "        epsilon = []\n",
    "\n",
    "        with open(fileName) as f:\n",
    "            line = f.readline()\n",
    "            while '[ atomtypes ]' not in line:\n",
    "                line = f.readline()\n",
    "            next(f)\n",
    "            for line in f:\n",
    "                atoms = line.split()\n",
    "                self.typeConstants.append(atoms[0])\n",
    "                sigma.append(atoms[4])\n",
    "                epsilon.append(atoms[5])\n",
    "\n",
    "        sigma = np.array(sigma, dtype=float)\n",
    "        epsilon = np.array(epsilon, dtype=float)\n",
    "\n",
    "        self.constantc6 = (epsilon * (sigma ** 6)) * 4.\n",
    "        self.constantc12 = (epsilon * (sigma ** 12)) * 4.\n",
    "\n",
    "    def loadAP(self):\n",
    "#         filename = os.path.dirname(__file__) + '/defaultsFiles/AtomProva.atp'\n",
    "        filename = '../src/defaultsFiles/AtomProva.atp'\n",
    "        self.ap = {}\n",
    "        with open(filename, 'r') as f:\n",
    "            next(f)\n",
    "            next(f)\n",
    "            for line in f:\n",
    "                group, charge, c6, c12 = line.split()\n",
    "                self.ap[group] = {'carga': float(charge), 'c6': float(c6), 'c12': float(c12)}\n",
    "\n",
    "    def determineConstants(self):\n",
    "        for c_type in self.types:\n",
    "            index = self.typeConstants.index(c_type)\n",
    "            self.c6.append(self.constantc6[index])\n",
    "            self.c12.append(self.constantc12[index])\n",
    "\n",
    "    def gridGenerate(self, dimX, dimY, dimZ, atp, x0, y0, z0, step):\n",
    "        self.DimX = dimX\n",
    "        self.DimY = dimY\n",
    "        self.DimZ = dimZ\n",
    "        self.natp = len(atp)\n",
    "\n",
    "        f = 138.935485\n",
    "        nframes = self.m / self.numberElements\n",
    "        # self.gridCoulomb = [[[[0 for x in range(self.natp)] for x in range(self.DimZ)]\n",
    "        #                    for x in range(self.DimY)] for x in range(self.DimX)]\n",
    "\n",
    "        # self.gridLJ = [[[[0 for x in range(self.natp)] for x in range(self.DimZ)]\n",
    "        #                for x in range(self.DimY)] for x in range(self.DimX)]\n",
    "        self.gridCoulomb = {}\n",
    "        self.gridLJ = {}\n",
    "\n",
    "        count = 0\n",
    "        # esse loop roda sobre o número de sondas escolhidas\n",
    "        for h in range(self.natp):\n",
    "            # elem = self.search(self.ap, atp[h])\n",
    "            # elem = self.ap.index(atp[h]) # encontra-se a posicao no vetor de elementos do elemento em questao\n",
    "            # carrega-se as respectivas constantes\n",
    "            q1 = self.ap[atp[h]]['carga']  # self.cargasap[elem]\n",
    "            c6a = self.ap[atp[h]]['c6']  # self.c6ap[elem]\n",
    "            c12a = self.ap[atp[h]]['c12']  # self.c12ap[elem]\n",
    "            Vlj = 0\n",
    "            Vc = 0\n",
    "            npontos = 0\n",
    "            # r1 = []\n",
    "            r1 = np.zeros(3)\n",
    "            self.gridCoulomb[atp[h]] = {}\n",
    "            self.gridLJ[atp[h]] = {}\n",
    "            # aqui começa o loop que gera as coordenadas cartesianas\n",
    "            # acho que você pode gerar os pontos com o fecho convexo e\n",
    "            # substituir esses 3 loops por um loop sobre os pontos gerados\n",
    "            for i in np.arange(x0, self.DimX + x0 + step, step):\n",
    "                r1[0] = i + x0\n",
    "                self.gridCoulomb[atp[h]][i] = {}\n",
    "                self.gridLJ[atp[h]][i] = {}\n",
    "                for j in np.arange(y0, self.DimY + y0 + step, step):\n",
    "                    r1[1] = j + y0\n",
    "                    self.gridCoulomb[atp[h]][i][j] = {}\n",
    "                    self.gridLJ[atp[h]][i][j] = {}\n",
    "                    for k in np.arange(z0, self.DimZ + z0 + step, step):\n",
    "                        r1[2] = k + z0\n",
    "                        Vlj = 0\n",
    "                        Vc = 0\n",
    "                        npontos += 1\n",
    "                        self.gridCoulomb[atp[h]][i][j][k] = {}\n",
    "                        self.gridLJ[atp[h]][i][j][k] = {}\n",
    "                        count += 1\n",
    "                        # geradas as coordenadas cartesianas começa o loop\n",
    "                        # sobre os átomos do PAC para calcular os descriotres\n",
    "                        # com base na distância entre a sonda e os átomos\n",
    "                        for l in range(self.m):\n",
    "                            r = Distance(r1, self.X[l]) / 10\n",
    "                            rr2 = np.linalg.norm(r1 - self.X[l]) / 10\n",
    "                            if rr2 != r:\n",
    "                                print(rr2, r)\n",
    "                            index = l % self.numberElements\n",
    "                            c6ij = math.sqrt(c6a * self.c6[index])\n",
    "                            c12ij = math.sqrt(c12a * self.c12[index])\n",
    "\n",
    "                            if r != 0:\n",
    "                                Vlj = Vlj + (c12ij / (math.pow(r, 12))) - \\\n",
    "                                    (c6ij / (math.pow(r, 6)))\n",
    "                                Vc = Vc + f * float(q1) * \\\n",
    "                                    float(self.cargas[index]) / r\n",
    "                            else:\n",
    "                                Vlj = float(\"inf\")\n",
    "                                Vc = float(\"inf\")\n",
    "\n",
    "                        self.gridCoulomb[atp[h]][i][j][k] = Vc / nframes\n",
    "                        self.gridLJ[atp[h]][i][j][k] = Vlj / math.sqrt(nframes)\n",
    "\n",
    "    def getMatrix(self):\n",
    "        textValuesCoulomb = \"\"\n",
    "        textValuesLj = \"\"\n",
    "        coulombMatrix = []\n",
    "        ljMatrix = []\n",
    "        count0 = 0\n",
    "        count = 0\n",
    "        for h in self.gridCoulomb:\n",
    "            for i in self.gridCoulomb[h]:\n",
    "                for j in self.gridCoulomb[h][i]:\n",
    "                    for k in self.gridCoulomb[h][i][j]:\n",
    "                        textValuesCoulomb += \"%g\\t\" % (self.gridCoulomb[h][i][j][k])\n",
    "                        textValuesLj += \"%g\\t\" % (self.gridLJ[h][i][j][k])\n",
    "                        coulombMatrix.append(self.gridCoulomb[h][i][j][k])\n",
    "                        ljMatrix.append(self.gridLJ[h][i][j][k])\n",
    "                        count += 1\n",
    "        return textValuesCoulomb, textValuesLj, coulombMatrix, ljMatrix\n"
   ]
  },
  {
   "cell_type": "code",
   "execution_count": 13,
   "metadata": {
    "ExecuteTime": {
     "end_time": "2018-11-28T04:18:23.229457Z",
     "start_time": "2018-11-28T04:18:22.273251Z"
    },
    "scrolled": true
   },
   "outputs": [
    {
     "name": "stdout",
     "output_type": "stream",
     "text": [
      "[4.56 5.51 1.8 ]\n",
      "[17.68 18.08 15.93]\n"
     ]
    }
   ],
   "source": [
    "matrices = []\n",
    "minimos = np.array([999999.0, 999999.0, 999999.0])\n",
    "maximos = np.array([-999999.0, -999999.0, -999999.0])\n",
    "for i in range(len(groFiles)):\n",
    "    matrix = MatrixGenerate(groFiles[i], topFiles[i], itpFiles[i])\n",
    "    minimos = np.minimum(minimos, matrix.minimos)\n",
    "    maximos = np.maximum(maximos, matrix.maximos)\n",
    "    \n",
    "    matrices.append(matrix)\n",
    "\n",
    "print(minimos)\n",
    "print(maximos)\n"
   ]
  },
  {
   "cell_type": "code",
   "execution_count": 14,
   "metadata": {
    "ExecuteTime": {
     "end_time": "2018-11-28T04:18:23.249905Z",
     "start_time": "2018-11-28T04:18:23.240145Z"
    }
   },
   "outputs": [
    {
     "name": "stdout",
     "output_type": "stream",
     "text": [
      "2 2 2\n"
     ]
    }
   ],
   "source": [
    "x0, y0, z0 = coordinates if coordinates else (maximos.astype(int) - 5)\n",
    "\n",
    "print(x0, y0, z0)"
   ]
  },
  {
   "cell_type": "code",
   "execution_count": 15,
   "metadata": {
    "ExecuteTime": {
     "end_time": "2018-11-28T04:18:23.311977Z",
     "start_time": "2018-11-28T04:18:23.253949Z"
    }
   },
   "outputs": [
    {
     "name": "stdout",
     "output_type": "stream",
     "text": [
      "3 3 3\n"
     ]
    }
   ],
   "source": [
    "dim_x, dim_y, dim_z = dimensions if dimensions else ((maximos - minimos).astype(int) + 10)\n",
    "print(dim_x, dim_y, dim_z)"
   ]
  },
  {
   "cell_type": "code",
   "execution_count": 16,
   "metadata": {
    "ExecuteTime": {
     "end_time": "2018-11-28T04:18:23.344756Z",
     "start_time": "2018-11-28T04:18:23.315270Z"
    }
   },
   "outputs": [],
   "source": [
    "cCoulomb = []\n",
    "cLJ = []\n",
    "for atp_l in atp:\n",
    "    for i in np.arange(x0, dim_x + x0 + step, step):\n",
    "        for j in np.arange(y0, dim_y + y0 + step, step):\n",
    "            for k in np.arange(z0, dim_z + z0 + step, step):\n",
    "                cCoulomb.append(\"%.2f_%.2f_%.2f_%s_C:\" % (i, j, k, atp_l))\n",
    "                cLJ.append(\"%.2f_%.2f_%.2f_%s_LJ:\" % (i, j, k, atp_l))\n",
    "output = ' \\t'.join(cCoulomb + cLJ)"
   ]
  },
  {
   "cell_type": "code",
   "execution_count": 17,
   "metadata": {
    "ExecuteTime": {
     "end_time": "2018-11-28T04:18:23.359364Z",
     "start_time": "2018-11-28T04:18:23.347826Z"
    }
   },
   "outputs": [
    {
     "name": "stdout",
     "output_type": "stream",
     "text": [
      "('NH3+',)\n"
     ]
    }
   ],
   "source": [
    "print(atp)"
   ]
  },
  {
   "cell_type": "code",
   "execution_count": 18,
   "metadata": {
    "ExecuteTime": {
     "end_time": "2018-11-28T04:18:33.692772Z",
     "start_time": "2018-11-28T04:18:23.367465Z"
    }
   },
   "outputs": [
    {
     "name": "stdout",
     "output_type": "stream",
     "text": [
      "(343,)\n"
     ]
    }
   ],
   "source": [
    "coulombMatrix = []\n",
    "ljMatrix = []\n",
    "for matrix in matrices:\n",
    "    matrix.gridGenerate(dim_x, dim_y, dim_z, atp, x0, y0, z0, step)\n",
    "    txt_val_c, txt_val_lj, coulombRow, ljRow = matrix.getMatrix()\n",
    "\n",
    "    print(np.array(ljRow).shape)\n",
    "\n",
    "    output += \"\\n\" + txt_val_c + txt_val_lj\n",
    "\n",
    "    coulombMatrix.append(coulombRow)\n",
    "    ljMatrix.append(ljRow)\n",
    "    break\n",
    "# print(ljMatrix)"
   ]
  },
  {
   "cell_type": "code",
   "execution_count": 19,
   "metadata": {
    "ExecuteTime": {
     "end_time": "2018-11-28T04:18:33.712317Z",
     "start_time": "2018-11-28T04:18:33.695963Z"
    }
   },
   "outputs": [],
   "source": [
    "def sphe2cart(r, theta, phi):\n",
    "    x = r * np.sin(theta) * np.cos(phi)\n",
    "    y = r * np.sin(theta) * np.sin(phi)\n",
    "    z = r * np.cos(theta)\n",
    "    return x, y, z\n",
    "\n",
    "def cart2sphe(x, y, z):\n",
    "    r = np.linalg.norm((x,y,z))\n",
    "    theta = np.arccos(z / r)\n",
    "    phi = np.arctan2(y, x)\n",
    "    return r, theta, phi"
   ]
  },
  {
   "cell_type": "code",
   "execution_count": 20,
   "metadata": {
    "ExecuteTime": {
     "end_time": "2018-11-28T04:18:33.730905Z",
     "start_time": "2018-11-28T04:18:33.720521Z"
    }
   },
   "outputs": [
    {
     "data": {
      "text/plain": [
       "(0.0, 0.0, 1.0)"
      ]
     },
     "execution_count": 20,
     "metadata": {},
     "output_type": "execute_result"
    }
   ],
   "source": [
    "sphe2cart(1, 0, 0.174533)"
   ]
  },
  {
   "cell_type": "code",
   "execution_count": 21,
   "metadata": {
    "ExecuteTime": {
     "end_time": "2018-11-28T04:18:33.759934Z",
     "start_time": "2018-11-28T04:18:33.749331Z"
    }
   },
   "outputs": [],
   "source": [
    "hull = ConvexHull(matrix.X)\n",
    "centroid = np.mean(hull.points[hull.vertices, :], axis=0)"
   ]
  },
  {
   "cell_type": "code",
   "execution_count": 64,
   "metadata": {
    "ExecuteTime": {
     "end_time": "2018-11-28T04:47:52.711792Z",
     "start_time": "2018-11-28T04:47:52.631833Z"
    }
   },
   "outputs": [],
   "source": [
    "step = 10\n",
    "radius = 1\n",
    "base_coords = [sphe2cart(radius, 0, 0)]\n",
    "# base_coords = [sphe2cart(radius, theta, phi) for theta in range(0, 180, step) for phi in range(0, 360, step)]\n",
    "for theta in range(step, 180, step):\n",
    "    for phi in range(0, 360, step):\n",
    "        base_coords.append(sphe2cart(radius, np.radians(theta), np.radians(phi)))\n",
    "\n",
    "base_coords = centroid - np.array(base_coords)\n",
    "# base_coords\n",
    "# temp_coords = [cart2sphe(*c) for c in base_coords]\n",
    "# [(r,theta *180/np.pi, phi*180/np.pi) for r, theta, phi in temp_coords]\n",
    "# print(base_coords[0])"
   ]
  },
  {
   "cell_type": "code",
   "execution_count": 77,
   "metadata": {
    "ExecuteTime": {
     "end_time": "2018-11-28T04:49:11.556699Z",
     "start_time": "2018-11-28T04:49:11.540546Z"
    },
    "code_folding": []
   },
   "outputs": [],
   "source": [
    "def isect_line_plane_v3_4d(p0, p1, plane, epsilon=1e-6):\n",
    "    \"\"\"\n",
    "    p0, p1: define the line\n",
    "    p_co, p_no: define the plane:\n",
    "        p_co is a point on the plane (plane coordinate).\n",
    "        p_no is a normal vector defining the plane direction;\n",
    "             (does not need to be normalized).\n",
    "\n",
    "    return a Vector or None (when the intersection can't be found).\n",
    "    \"\"\"\n",
    "    p_no = plane[:3]\n",
    "    u = p1 - p0\n",
    "    dot = np.dot(p_no, u)\n",
    "    if dot > epsilon:\n",
    "        # calculate a point on the plane\n",
    "        # (divide can be omitted for unit hessian-normal form).\n",
    "        p_co = p_no * (-plane[3] / np.linalg.norm(p_no))\n",
    "\n",
    "        w = p0 - p_co\n",
    "        fac = -np.dot(p_no, w) / dot\n",
    "        u = u * fac\n",
    "        return p0 + u\n",
    "    else:\n",
    "        return None"
   ]
  },
  {
   "cell_type": "code",
   "execution_count": 154,
   "metadata": {
    "ExecuteTime": {
     "end_time": "2018-11-28T05:57:53.644783Z",
     "start_time": "2018-11-28T05:57:53.630603Z"
    },
    "code_folding": []
   },
   "outputs": [],
   "source": [
    "def find_plane_ray_intersection(hull, centroid, ray):\n",
    "    dist = float('inf')\n",
    "    index = 0\n",
    "    intersection = []\n",
    "    for i, plane in enumerate(hull.equations):\n",
    "        inte = isect_line_plane_v3_4d(centroid, ray, plane)\n",
    "        if inte is not None:\n",
    "            new_dist = np.linalg.norm(inte - centroid)\n",
    "            if new_dist < dist:\n",
    "                index = i\n",
    "                dist = new_dist\n",
    "                intersection = inte\n",
    "#     print(intersection)\n",
    "    return np.array(intersection)"
   ]
  },
  {
   "cell_type": "code",
   "execution_count": 153,
   "metadata": {
    "ExecuteTime": {
     "end_time": "2018-11-28T05:57:46.681413Z",
     "start_time": "2018-11-28T05:57:46.666419Z"
    }
   },
   "outputs": [],
   "source": [
    "def get_coord_point_list(hull, centroid, cur_point, total_layers, initial_distance, delta_r):\n",
    "    intersection = centroid - find_plane_ray_intersection(hull, centroid, cur_point)\n",
    "#     print(centroid - intersection)\n",
    "    r, theta, phi = cart2sphe(*intersection)\n",
    "#     print(r, theta, phi)\n",
    "    r += initial_distance\n",
    "    all_points = []\n",
    "    for layer in range(total_layers):\n",
    "        all_points.append(centroid - (sphe2cart(r, theta, phi)))\n",
    "        r += delta_r\n",
    "    return all_points"
   ]
  },
  {
   "cell_type": "code",
   "execution_count": 159,
   "metadata": {
    "ExecuteTime": {
     "end_time": "2018-11-28T06:00:52.732269Z",
     "start_time": "2018-11-28T06:00:52.382839Z"
    }
   },
   "outputs": [
    {
     "data": {
      "text/plain": [
       "array([[ 9.42189655,  9.70465517,  5.44118789],\n",
       "       [ 9.42189655,  9.70465517,  4.44118789],\n",
       "       [ 9.42189655,  9.70465517,  3.44118789],\n",
       "       ...,\n",
       "       [ 4.9855248 , 12.2659956 , 20.81722627],\n",
       "       [ 4.55251209, 12.5159956 , 21.68325167],\n",
       "       [ 4.11949939, 12.7659956 , 22.54927708]])"
      ]
     },
     "execution_count": 159,
     "metadata": {},
     "output_type": "execute_result"
    }
   ],
   "source": [
    "step = 30\n",
    "radius = 1\n",
    "initial_distance = 2.5\n",
    "all_points = []\n",
    "total_layers = 7\n",
    "delta_r = 1\n",
    "\n",
    "# print(centroid)\n",
    "cur_point = centroid - sphe2cart(radius, 0, 0)\n",
    "# print(cur_point)\n",
    "new_cur_point = centroid - cur_point\n",
    "# print(new_cur_point)\n",
    "r, theta, phi = cart2sphe(*new_cur_point)\n",
    "# print(r, theta, phi)\n",
    "# print()\n",
    "# print(r, np.degrees(theta), np.degrees(phi))\n",
    "all_points = get_coord_point_list(hull, centroid, cur_point, total_layers, initial_distance, delta_r)\n",
    "# print(all_points)\n",
    "# print(cur_point)\n",
    "# print(base_coords[0])\n",
    "# print\n",
    "# # base_coords = [sphe2cart(radius, theta, phi) for theta in range(0, 180, step) for phi in range(0, 360, step)]\n",
    "for theta in range(step, 180, step):\n",
    "    for phi in range(0, 360, step):\n",
    "        cur_point = centroid - sphe2cart(radius, np.radians(theta), np.radians(phi))\n",
    "        all_points += get_coord_point_list(hull, centroid, cur_point, total_layers, initial_distance, delta_r)\n",
    "# all_points = centroid - np.array(all_points)\n",
    "# print(all_points[1])\n",
    "all_points = np.array(all_points)\n",
    "all_points"
   ]
  },
  {
   "cell_type": "code",
   "execution_count": 158,
   "metadata": {
    "ExecuteTime": {
     "end_time": "2018-11-28T06:00:46.239384Z",
     "start_time": "2018-11-28T06:00:46.187381Z"
    },
    "scrolled": false
   },
   "outputs": [
    {
     "data": {
      "application/javascript": [
       "/* Put everything inside the global mpl namespace */\n",
       "window.mpl = {};\n",
       "\n",
       "\n",
       "mpl.get_websocket_type = function() {\n",
       "    if (typeof(WebSocket) !== 'undefined') {\n",
       "        return WebSocket;\n",
       "    } else if (typeof(MozWebSocket) !== 'undefined') {\n",
       "        return MozWebSocket;\n",
       "    } else {\n",
       "        alert('Your browser does not have WebSocket support.' +\n",
       "              'Please try Chrome, Safari or Firefox ≥ 6. ' +\n",
       "              'Firefox 4 and 5 are also supported but you ' +\n",
       "              'have to enable WebSockets in about:config.');\n",
       "    };\n",
       "}\n",
       "\n",
       "mpl.figure = function(figure_id, websocket, ondownload, parent_element) {\n",
       "    this.id = figure_id;\n",
       "\n",
       "    this.ws = websocket;\n",
       "\n",
       "    this.supports_binary = (this.ws.binaryType != undefined);\n",
       "\n",
       "    if (!this.supports_binary) {\n",
       "        var warnings = document.getElementById(\"mpl-warnings\");\n",
       "        if (warnings) {\n",
       "            warnings.style.display = 'block';\n",
       "            warnings.textContent = (\n",
       "                \"This browser does not support binary websocket messages. \" +\n",
       "                    \"Performance may be slow.\");\n",
       "        }\n",
       "    }\n",
       "\n",
       "    this.imageObj = new Image();\n",
       "\n",
       "    this.context = undefined;\n",
       "    this.message = undefined;\n",
       "    this.canvas = undefined;\n",
       "    this.rubberband_canvas = undefined;\n",
       "    this.rubberband_context = undefined;\n",
       "    this.format_dropdown = undefined;\n",
       "\n",
       "    this.image_mode = 'full';\n",
       "\n",
       "    this.root = $('<div/>');\n",
       "    this._root_extra_style(this.root)\n",
       "    this.root.attr('style', 'display: inline-block');\n",
       "\n",
       "    $(parent_element).append(this.root);\n",
       "\n",
       "    this._init_header(this);\n",
       "    this._init_canvas(this);\n",
       "    this._init_toolbar(this);\n",
       "\n",
       "    var fig = this;\n",
       "\n",
       "    this.waiting = false;\n",
       "\n",
       "    this.ws.onopen =  function () {\n",
       "            fig.send_message(\"supports_binary\", {value: fig.supports_binary});\n",
       "            fig.send_message(\"send_image_mode\", {});\n",
       "            if (mpl.ratio != 1) {\n",
       "                fig.send_message(\"set_dpi_ratio\", {'dpi_ratio': mpl.ratio});\n",
       "            }\n",
       "            fig.send_message(\"refresh\", {});\n",
       "        }\n",
       "\n",
       "    this.imageObj.onload = function() {\n",
       "            if (fig.image_mode == 'full') {\n",
       "                // Full images could contain transparency (where diff images\n",
       "                // almost always do), so we need to clear the canvas so that\n",
       "                // there is no ghosting.\n",
       "                fig.context.clearRect(0, 0, fig.canvas.width, fig.canvas.height);\n",
       "            }\n",
       "            fig.context.drawImage(fig.imageObj, 0, 0);\n",
       "        };\n",
       "\n",
       "    this.imageObj.onunload = function() {\n",
       "        fig.ws.close();\n",
       "    }\n",
       "\n",
       "    this.ws.onmessage = this._make_on_message_function(this);\n",
       "\n",
       "    this.ondownload = ondownload;\n",
       "}\n",
       "\n",
       "mpl.figure.prototype._init_header = function() {\n",
       "    var titlebar = $(\n",
       "        '<div class=\"ui-dialog-titlebar ui-widget-header ui-corner-all ' +\n",
       "        'ui-helper-clearfix\"/>');\n",
       "    var titletext = $(\n",
       "        '<div class=\"ui-dialog-title\" style=\"width: 100%; ' +\n",
       "        'text-align: center; padding: 3px;\"/>');\n",
       "    titlebar.append(titletext)\n",
       "    this.root.append(titlebar);\n",
       "    this.header = titletext[0];\n",
       "}\n",
       "\n",
       "\n",
       "\n",
       "mpl.figure.prototype._canvas_extra_style = function(canvas_div) {\n",
       "\n",
       "}\n",
       "\n",
       "\n",
       "mpl.figure.prototype._root_extra_style = function(canvas_div) {\n",
       "\n",
       "}\n",
       "\n",
       "mpl.figure.prototype._init_canvas = function() {\n",
       "    var fig = this;\n",
       "\n",
       "    var canvas_div = $('<div/>');\n",
       "\n",
       "    canvas_div.attr('style', 'position: relative; clear: both; outline: 0');\n",
       "\n",
       "    function canvas_keyboard_event(event) {\n",
       "        return fig.key_event(event, event['data']);\n",
       "    }\n",
       "\n",
       "    canvas_div.keydown('key_press', canvas_keyboard_event);\n",
       "    canvas_div.keyup('key_release', canvas_keyboard_event);\n",
       "    this.canvas_div = canvas_div\n",
       "    this._canvas_extra_style(canvas_div)\n",
       "    this.root.append(canvas_div);\n",
       "\n",
       "    var canvas = $('<canvas/>');\n",
       "    canvas.addClass('mpl-canvas');\n",
       "    canvas.attr('style', \"left: 0; top: 0; z-index: 0; outline: 0\")\n",
       "\n",
       "    this.canvas = canvas[0];\n",
       "    this.context = canvas[0].getContext(\"2d\");\n",
       "\n",
       "    var backingStore = this.context.backingStorePixelRatio ||\n",
       "\tthis.context.webkitBackingStorePixelRatio ||\n",
       "\tthis.context.mozBackingStorePixelRatio ||\n",
       "\tthis.context.msBackingStorePixelRatio ||\n",
       "\tthis.context.oBackingStorePixelRatio ||\n",
       "\tthis.context.backingStorePixelRatio || 1;\n",
       "\n",
       "    mpl.ratio = (window.devicePixelRatio || 1) / backingStore;\n",
       "\n",
       "    var rubberband = $('<canvas/>');\n",
       "    rubberband.attr('style', \"position: absolute; left: 0; top: 0; z-index: 1;\")\n",
       "\n",
       "    var pass_mouse_events = true;\n",
       "\n",
       "    canvas_div.resizable({\n",
       "        start: function(event, ui) {\n",
       "            pass_mouse_events = false;\n",
       "        },\n",
       "        resize: function(event, ui) {\n",
       "            fig.request_resize(ui.size.width, ui.size.height);\n",
       "        },\n",
       "        stop: function(event, ui) {\n",
       "            pass_mouse_events = true;\n",
       "            fig.request_resize(ui.size.width, ui.size.height);\n",
       "        },\n",
       "    });\n",
       "\n",
       "    function mouse_event_fn(event) {\n",
       "        if (pass_mouse_events)\n",
       "            return fig.mouse_event(event, event['data']);\n",
       "    }\n",
       "\n",
       "    rubberband.mousedown('button_press', mouse_event_fn);\n",
       "    rubberband.mouseup('button_release', mouse_event_fn);\n",
       "    // Throttle sequential mouse events to 1 every 20ms.\n",
       "    rubberband.mousemove('motion_notify', mouse_event_fn);\n",
       "\n",
       "    rubberband.mouseenter('figure_enter', mouse_event_fn);\n",
       "    rubberband.mouseleave('figure_leave', mouse_event_fn);\n",
       "\n",
       "    canvas_div.on(\"wheel\", function (event) {\n",
       "        event = event.originalEvent;\n",
       "        event['data'] = 'scroll'\n",
       "        if (event.deltaY < 0) {\n",
       "            event.step = 1;\n",
       "        } else {\n",
       "            event.step = -1;\n",
       "        }\n",
       "        mouse_event_fn(event);\n",
       "    });\n",
       "\n",
       "    canvas_div.append(canvas);\n",
       "    canvas_div.append(rubberband);\n",
       "\n",
       "    this.rubberband = rubberband;\n",
       "    this.rubberband_canvas = rubberband[0];\n",
       "    this.rubberband_context = rubberband[0].getContext(\"2d\");\n",
       "    this.rubberband_context.strokeStyle = \"#000000\";\n",
       "\n",
       "    this._resize_canvas = function(width, height) {\n",
       "        // Keep the size of the canvas, canvas container, and rubber band\n",
       "        // canvas in synch.\n",
       "        canvas_div.css('width', width)\n",
       "        canvas_div.css('height', height)\n",
       "\n",
       "        canvas.attr('width', width * mpl.ratio);\n",
       "        canvas.attr('height', height * mpl.ratio);\n",
       "        canvas.attr('style', 'width: ' + width + 'px; height: ' + height + 'px;');\n",
       "\n",
       "        rubberband.attr('width', width);\n",
       "        rubberband.attr('height', height);\n",
       "    }\n",
       "\n",
       "    // Set the figure to an initial 600x600px, this will subsequently be updated\n",
       "    // upon first draw.\n",
       "    this._resize_canvas(600, 600);\n",
       "\n",
       "    // Disable right mouse context menu.\n",
       "    $(this.rubberband_canvas).bind(\"contextmenu\",function(e){\n",
       "        return false;\n",
       "    });\n",
       "\n",
       "    function set_focus () {\n",
       "        canvas.focus();\n",
       "        canvas_div.focus();\n",
       "    }\n",
       "\n",
       "    window.setTimeout(set_focus, 100);\n",
       "}\n",
       "\n",
       "mpl.figure.prototype._init_toolbar = function() {\n",
       "    var fig = this;\n",
       "\n",
       "    var nav_element = $('<div/>')\n",
       "    nav_element.attr('style', 'width: 100%');\n",
       "    this.root.append(nav_element);\n",
       "\n",
       "    // Define a callback function for later on.\n",
       "    function toolbar_event(event) {\n",
       "        return fig.toolbar_button_onclick(event['data']);\n",
       "    }\n",
       "    function toolbar_mouse_event(event) {\n",
       "        return fig.toolbar_button_onmouseover(event['data']);\n",
       "    }\n",
       "\n",
       "    for(var toolbar_ind in mpl.toolbar_items) {\n",
       "        var name = mpl.toolbar_items[toolbar_ind][0];\n",
       "        var tooltip = mpl.toolbar_items[toolbar_ind][1];\n",
       "        var image = mpl.toolbar_items[toolbar_ind][2];\n",
       "        var method_name = mpl.toolbar_items[toolbar_ind][3];\n",
       "\n",
       "        if (!name) {\n",
       "            // put a spacer in here.\n",
       "            continue;\n",
       "        }\n",
       "        var button = $('<button/>');\n",
       "        button.addClass('ui-button ui-widget ui-state-default ui-corner-all ' +\n",
       "                        'ui-button-icon-only');\n",
       "        button.attr('role', 'button');\n",
       "        button.attr('aria-disabled', 'false');\n",
       "        button.click(method_name, toolbar_event);\n",
       "        button.mouseover(tooltip, toolbar_mouse_event);\n",
       "\n",
       "        var icon_img = $('<span/>');\n",
       "        icon_img.addClass('ui-button-icon-primary ui-icon');\n",
       "        icon_img.addClass(image);\n",
       "        icon_img.addClass('ui-corner-all');\n",
       "\n",
       "        var tooltip_span = $('<span/>');\n",
       "        tooltip_span.addClass('ui-button-text');\n",
       "        tooltip_span.html(tooltip);\n",
       "\n",
       "        button.append(icon_img);\n",
       "        button.append(tooltip_span);\n",
       "\n",
       "        nav_element.append(button);\n",
       "    }\n",
       "\n",
       "    var fmt_picker_span = $('<span/>');\n",
       "\n",
       "    var fmt_picker = $('<select/>');\n",
       "    fmt_picker.addClass('mpl-toolbar-option ui-widget ui-widget-content');\n",
       "    fmt_picker_span.append(fmt_picker);\n",
       "    nav_element.append(fmt_picker_span);\n",
       "    this.format_dropdown = fmt_picker[0];\n",
       "\n",
       "    for (var ind in mpl.extensions) {\n",
       "        var fmt = mpl.extensions[ind];\n",
       "        var option = $(\n",
       "            '<option/>', {selected: fmt === mpl.default_extension}).html(fmt);\n",
       "        fmt_picker.append(option)\n",
       "    }\n",
       "\n",
       "    // Add hover states to the ui-buttons\n",
       "    $( \".ui-button\" ).hover(\n",
       "        function() { $(this).addClass(\"ui-state-hover\");},\n",
       "        function() { $(this).removeClass(\"ui-state-hover\");}\n",
       "    );\n",
       "\n",
       "    var status_bar = $('<span class=\"mpl-message\"/>');\n",
       "    nav_element.append(status_bar);\n",
       "    this.message = status_bar[0];\n",
       "}\n",
       "\n",
       "mpl.figure.prototype.request_resize = function(x_pixels, y_pixels) {\n",
       "    // Request matplotlib to resize the figure. Matplotlib will then trigger a resize in the client,\n",
       "    // which will in turn request a refresh of the image.\n",
       "    this.send_message('resize', {'width': x_pixels, 'height': y_pixels});\n",
       "}\n",
       "\n",
       "mpl.figure.prototype.send_message = function(type, properties) {\n",
       "    properties['type'] = type;\n",
       "    properties['figure_id'] = this.id;\n",
       "    this.ws.send(JSON.stringify(properties));\n",
       "}\n",
       "\n",
       "mpl.figure.prototype.send_draw_message = function() {\n",
       "    if (!this.waiting) {\n",
       "        this.waiting = true;\n",
       "        this.ws.send(JSON.stringify({type: \"draw\", figure_id: this.id}));\n",
       "    }\n",
       "}\n",
       "\n",
       "\n",
       "mpl.figure.prototype.handle_save = function(fig, msg) {\n",
       "    var format_dropdown = fig.format_dropdown;\n",
       "    var format = format_dropdown.options[format_dropdown.selectedIndex].value;\n",
       "    fig.ondownload(fig, format);\n",
       "}\n",
       "\n",
       "\n",
       "mpl.figure.prototype.handle_resize = function(fig, msg) {\n",
       "    var size = msg['size'];\n",
       "    if (size[0] != fig.canvas.width || size[1] != fig.canvas.height) {\n",
       "        fig._resize_canvas(size[0], size[1]);\n",
       "        fig.send_message(\"refresh\", {});\n",
       "    };\n",
       "}\n",
       "\n",
       "mpl.figure.prototype.handle_rubberband = function(fig, msg) {\n",
       "    var x0 = msg['x0'] / mpl.ratio;\n",
       "    var y0 = (fig.canvas.height - msg['y0']) / mpl.ratio;\n",
       "    var x1 = msg['x1'] / mpl.ratio;\n",
       "    var y1 = (fig.canvas.height - msg['y1']) / mpl.ratio;\n",
       "    x0 = Math.floor(x0) + 0.5;\n",
       "    y0 = Math.floor(y0) + 0.5;\n",
       "    x1 = Math.floor(x1) + 0.5;\n",
       "    y1 = Math.floor(y1) + 0.5;\n",
       "    var min_x = Math.min(x0, x1);\n",
       "    var min_y = Math.min(y0, y1);\n",
       "    var width = Math.abs(x1 - x0);\n",
       "    var height = Math.abs(y1 - y0);\n",
       "\n",
       "    fig.rubberband_context.clearRect(\n",
       "        0, 0, fig.canvas.width, fig.canvas.height);\n",
       "\n",
       "    fig.rubberband_context.strokeRect(min_x, min_y, width, height);\n",
       "}\n",
       "\n",
       "mpl.figure.prototype.handle_figure_label = function(fig, msg) {\n",
       "    // Updates the figure title.\n",
       "    fig.header.textContent = msg['label'];\n",
       "}\n",
       "\n",
       "mpl.figure.prototype.handle_cursor = function(fig, msg) {\n",
       "    var cursor = msg['cursor'];\n",
       "    switch(cursor)\n",
       "    {\n",
       "    case 0:\n",
       "        cursor = 'pointer';\n",
       "        break;\n",
       "    case 1:\n",
       "        cursor = 'default';\n",
       "        break;\n",
       "    case 2:\n",
       "        cursor = 'crosshair';\n",
       "        break;\n",
       "    case 3:\n",
       "        cursor = 'move';\n",
       "        break;\n",
       "    }\n",
       "    fig.rubberband_canvas.style.cursor = cursor;\n",
       "}\n",
       "\n",
       "mpl.figure.prototype.handle_message = function(fig, msg) {\n",
       "    fig.message.textContent = msg['message'];\n",
       "}\n",
       "\n",
       "mpl.figure.prototype.handle_draw = function(fig, msg) {\n",
       "    // Request the server to send over a new figure.\n",
       "    fig.send_draw_message();\n",
       "}\n",
       "\n",
       "mpl.figure.prototype.handle_image_mode = function(fig, msg) {\n",
       "    fig.image_mode = msg['mode'];\n",
       "}\n",
       "\n",
       "mpl.figure.prototype.updated_canvas_event = function() {\n",
       "    // Called whenever the canvas gets updated.\n",
       "    this.send_message(\"ack\", {});\n",
       "}\n",
       "\n",
       "// A function to construct a web socket function for onmessage handling.\n",
       "// Called in the figure constructor.\n",
       "mpl.figure.prototype._make_on_message_function = function(fig) {\n",
       "    return function socket_on_message(evt) {\n",
       "        if (evt.data instanceof Blob) {\n",
       "            /* FIXME: We get \"Resource interpreted as Image but\n",
       "             * transferred with MIME type text/plain:\" errors on\n",
       "             * Chrome.  But how to set the MIME type?  It doesn't seem\n",
       "             * to be part of the websocket stream */\n",
       "            evt.data.type = \"image/png\";\n",
       "\n",
       "            /* Free the memory for the previous frames */\n",
       "            if (fig.imageObj.src) {\n",
       "                (window.URL || window.webkitURL).revokeObjectURL(\n",
       "                    fig.imageObj.src);\n",
       "            }\n",
       "\n",
       "            fig.imageObj.src = (window.URL || window.webkitURL).createObjectURL(\n",
       "                evt.data);\n",
       "            fig.updated_canvas_event();\n",
       "            fig.waiting = false;\n",
       "            return;\n",
       "        }\n",
       "        else if (typeof evt.data === 'string' && evt.data.slice(0, 21) == \"data:image/png;base64\") {\n",
       "            fig.imageObj.src = evt.data;\n",
       "            fig.updated_canvas_event();\n",
       "            fig.waiting = false;\n",
       "            return;\n",
       "        }\n",
       "\n",
       "        var msg = JSON.parse(evt.data);\n",
       "        var msg_type = msg['type'];\n",
       "\n",
       "        // Call the  \"handle_{type}\" callback, which takes\n",
       "        // the figure and JSON message as its only arguments.\n",
       "        try {\n",
       "            var callback = fig[\"handle_\" + msg_type];\n",
       "        } catch (e) {\n",
       "            console.log(\"No handler for the '\" + msg_type + \"' message type: \", msg);\n",
       "            return;\n",
       "        }\n",
       "\n",
       "        if (callback) {\n",
       "            try {\n",
       "                // console.log(\"Handling '\" + msg_type + \"' message: \", msg);\n",
       "                callback(fig, msg);\n",
       "            } catch (e) {\n",
       "                console.log(\"Exception inside the 'handler_\" + msg_type + \"' callback:\", e, e.stack, msg);\n",
       "            }\n",
       "        }\n",
       "    };\n",
       "}\n",
       "\n",
       "// from http://stackoverflow.com/questions/1114465/getting-mouse-location-in-canvas\n",
       "mpl.findpos = function(e) {\n",
       "    //this section is from http://www.quirksmode.org/js/events_properties.html\n",
       "    var targ;\n",
       "    if (!e)\n",
       "        e = window.event;\n",
       "    if (e.target)\n",
       "        targ = e.target;\n",
       "    else if (e.srcElement)\n",
       "        targ = e.srcElement;\n",
       "    if (targ.nodeType == 3) // defeat Safari bug\n",
       "        targ = targ.parentNode;\n",
       "\n",
       "    // jQuery normalizes the pageX and pageY\n",
       "    // pageX,Y are the mouse positions relative to the document\n",
       "    // offset() returns the position of the element relative to the document\n",
       "    var x = e.pageX - $(targ).offset().left;\n",
       "    var y = e.pageY - $(targ).offset().top;\n",
       "\n",
       "    return {\"x\": x, \"y\": y};\n",
       "};\n",
       "\n",
       "/*\n",
       " * return a copy of an object with only non-object keys\n",
       " * we need this to avoid circular references\n",
       " * http://stackoverflow.com/a/24161582/3208463\n",
       " */\n",
       "function simpleKeys (original) {\n",
       "  return Object.keys(original).reduce(function (obj, key) {\n",
       "    if (typeof original[key] !== 'object')\n",
       "        obj[key] = original[key]\n",
       "    return obj;\n",
       "  }, {});\n",
       "}\n",
       "\n",
       "mpl.figure.prototype.mouse_event = function(event, name) {\n",
       "    var canvas_pos = mpl.findpos(event)\n",
       "\n",
       "    if (name === 'button_press')\n",
       "    {\n",
       "        this.canvas.focus();\n",
       "        this.canvas_div.focus();\n",
       "    }\n",
       "\n",
       "    var x = canvas_pos.x * mpl.ratio;\n",
       "    var y = canvas_pos.y * mpl.ratio;\n",
       "\n",
       "    this.send_message(name, {x: x, y: y, button: event.button,\n",
       "                             step: event.step,\n",
       "                             guiEvent: simpleKeys(event)});\n",
       "\n",
       "    /* This prevents the web browser from automatically changing to\n",
       "     * the text insertion cursor when the button is pressed.  We want\n",
       "     * to control all of the cursor setting manually through the\n",
       "     * 'cursor' event from matplotlib */\n",
       "    event.preventDefault();\n",
       "    return false;\n",
       "}\n",
       "\n",
       "mpl.figure.prototype._key_event_extra = function(event, name) {\n",
       "    // Handle any extra behaviour associated with a key event\n",
       "}\n",
       "\n",
       "mpl.figure.prototype.key_event = function(event, name) {\n",
       "\n",
       "    // Prevent repeat events\n",
       "    if (name == 'key_press')\n",
       "    {\n",
       "        if (event.which === this._key)\n",
       "            return;\n",
       "        else\n",
       "            this._key = event.which;\n",
       "    }\n",
       "    if (name == 'key_release')\n",
       "        this._key = null;\n",
       "\n",
       "    var value = '';\n",
       "    if (event.ctrlKey && event.which != 17)\n",
       "        value += \"ctrl+\";\n",
       "    if (event.altKey && event.which != 18)\n",
       "        value += \"alt+\";\n",
       "    if (event.shiftKey && event.which != 16)\n",
       "        value += \"shift+\";\n",
       "\n",
       "    value += 'k';\n",
       "    value += event.which.toString();\n",
       "\n",
       "    this._key_event_extra(event, name);\n",
       "\n",
       "    this.send_message(name, {key: value,\n",
       "                             guiEvent: simpleKeys(event)});\n",
       "    return false;\n",
       "}\n",
       "\n",
       "mpl.figure.prototype.toolbar_button_onclick = function(name) {\n",
       "    if (name == 'download') {\n",
       "        this.handle_save(this, null);\n",
       "    } else {\n",
       "        this.send_message(\"toolbar_button\", {name: name});\n",
       "    }\n",
       "};\n",
       "\n",
       "mpl.figure.prototype.toolbar_button_onmouseover = function(tooltip) {\n",
       "    this.message.textContent = tooltip;\n",
       "};\n",
       "mpl.toolbar_items = [[\"Home\", \"Reset original view\", \"fa fa-home icon-home\", \"home\"], [\"Back\", \"Back to previous view\", \"fa fa-arrow-left icon-arrow-left\", \"back\"], [\"Forward\", \"Forward to next view\", \"fa fa-arrow-right icon-arrow-right\", \"forward\"], [\"\", \"\", \"\", \"\"], [\"Pan\", \"Pan axes with left mouse, zoom with right\", \"fa fa-arrows icon-move\", \"pan\"], [\"Zoom\", \"Zoom to rectangle\", \"fa fa-square-o icon-check-empty\", \"zoom\"], [\"\", \"\", \"\", \"\"], [\"Download\", \"Download plot\", \"fa fa-floppy-o icon-save\", \"download\"]];\n",
       "\n",
       "mpl.extensions = [\"eps\", \"jpeg\", \"pdf\", \"png\", \"ps\", \"raw\", \"svg\", \"tif\"];\n",
       "\n",
       "mpl.default_extension = \"png\";var comm_websocket_adapter = function(comm) {\n",
       "    // Create a \"websocket\"-like object which calls the given IPython comm\n",
       "    // object with the appropriate methods. Currently this is a non binary\n",
       "    // socket, so there is still some room for performance tuning.\n",
       "    var ws = {};\n",
       "\n",
       "    ws.close = function() {\n",
       "        comm.close()\n",
       "    };\n",
       "    ws.send = function(m) {\n",
       "        //console.log('sending', m);\n",
       "        comm.send(m);\n",
       "    };\n",
       "    // Register the callback with on_msg.\n",
       "    comm.on_msg(function(msg) {\n",
       "        //console.log('receiving', msg['content']['data'], msg);\n",
       "        // Pass the mpl event to the overridden (by mpl) onmessage function.\n",
       "        ws.onmessage(msg['content']['data'])\n",
       "    });\n",
       "    return ws;\n",
       "}\n",
       "\n",
       "mpl.mpl_figure_comm = function(comm, msg) {\n",
       "    // This is the function which gets called when the mpl process\n",
       "    // starts-up an IPython Comm through the \"matplotlib\" channel.\n",
       "\n",
       "    var id = msg.content.data.id;\n",
       "    // Get hold of the div created by the display call when the Comm\n",
       "    // socket was opened in Python.\n",
       "    var element = $(\"#\" + id);\n",
       "    var ws_proxy = comm_websocket_adapter(comm)\n",
       "\n",
       "    function ondownload(figure, format) {\n",
       "        window.open(figure.imageObj.src);\n",
       "    }\n",
       "\n",
       "    var fig = new mpl.figure(id, ws_proxy,\n",
       "                           ondownload,\n",
       "                           element.get(0));\n",
       "\n",
       "    // Call onopen now - mpl needs it, as it is assuming we've passed it a real\n",
       "    // web socket which is closed, not our websocket->open comm proxy.\n",
       "    ws_proxy.onopen();\n",
       "\n",
       "    fig.parent_element = element.get(0);\n",
       "    fig.cell_info = mpl.find_output_cell(\"<div id='\" + id + \"'></div>\");\n",
       "    if (!fig.cell_info) {\n",
       "        console.error(\"Failed to find cell for figure\", id, fig);\n",
       "        return;\n",
       "    }\n",
       "\n",
       "    var output_index = fig.cell_info[2]\n",
       "    var cell = fig.cell_info[0];\n",
       "\n",
       "};\n",
       "\n",
       "mpl.figure.prototype.handle_close = function(fig, msg) {\n",
       "    var width = fig.canvas.width/mpl.ratio\n",
       "    fig.root.unbind('remove')\n",
       "\n",
       "    // Update the output cell to use the data from the current canvas.\n",
       "    fig.push_to_output();\n",
       "    var dataURL = fig.canvas.toDataURL();\n",
       "    // Re-enable the keyboard manager in IPython - without this line, in FF,\n",
       "    // the notebook keyboard shortcuts fail.\n",
       "    IPython.keyboard_manager.enable()\n",
       "    $(fig.parent_element).html('<img src=\"' + dataURL + '\" width=\"' + width + '\">');\n",
       "    fig.close_ws(fig, msg);\n",
       "}\n",
       "\n",
       "mpl.figure.prototype.close_ws = function(fig, msg){\n",
       "    fig.send_message('closing', msg);\n",
       "    // fig.ws.close()\n",
       "}\n",
       "\n",
       "mpl.figure.prototype.push_to_output = function(remove_interactive) {\n",
       "    // Turn the data on the canvas into data in the output cell.\n",
       "    var width = this.canvas.width/mpl.ratio\n",
       "    var dataURL = this.canvas.toDataURL();\n",
       "    this.cell_info[1]['text/html'] = '<img src=\"' + dataURL + '\" width=\"' + width + '\">';\n",
       "}\n",
       "\n",
       "mpl.figure.prototype.updated_canvas_event = function() {\n",
       "    // Tell IPython that the notebook contents must change.\n",
       "    IPython.notebook.set_dirty(true);\n",
       "    this.send_message(\"ack\", {});\n",
       "    var fig = this;\n",
       "    // Wait a second, then push the new image to the DOM so\n",
       "    // that it is saved nicely (might be nice to debounce this).\n",
       "    setTimeout(function () { fig.push_to_output() }, 1000);\n",
       "}\n",
       "\n",
       "mpl.figure.prototype._init_toolbar = function() {\n",
       "    var fig = this;\n",
       "\n",
       "    var nav_element = $('<div/>')\n",
       "    nav_element.attr('style', 'width: 100%');\n",
       "    this.root.append(nav_element);\n",
       "\n",
       "    // Define a callback function for later on.\n",
       "    function toolbar_event(event) {\n",
       "        return fig.toolbar_button_onclick(event['data']);\n",
       "    }\n",
       "    function toolbar_mouse_event(event) {\n",
       "        return fig.toolbar_button_onmouseover(event['data']);\n",
       "    }\n",
       "\n",
       "    for(var toolbar_ind in mpl.toolbar_items){\n",
       "        var name = mpl.toolbar_items[toolbar_ind][0];\n",
       "        var tooltip = mpl.toolbar_items[toolbar_ind][1];\n",
       "        var image = mpl.toolbar_items[toolbar_ind][2];\n",
       "        var method_name = mpl.toolbar_items[toolbar_ind][3];\n",
       "\n",
       "        if (!name) { continue; };\n",
       "\n",
       "        var button = $('<button class=\"btn btn-default\" href=\"#\" title=\"' + name + '\"><i class=\"fa ' + image + ' fa-lg\"></i></button>');\n",
       "        button.click(method_name, toolbar_event);\n",
       "        button.mouseover(tooltip, toolbar_mouse_event);\n",
       "        nav_element.append(button);\n",
       "    }\n",
       "\n",
       "    // Add the status bar.\n",
       "    var status_bar = $('<span class=\"mpl-message\" style=\"text-align:right; float: right;\"/>');\n",
       "    nav_element.append(status_bar);\n",
       "    this.message = status_bar[0];\n",
       "\n",
       "    // Add the close button to the window.\n",
       "    var buttongrp = $('<div class=\"btn-group inline pull-right\"></div>');\n",
       "    var button = $('<button class=\"btn btn-mini btn-primary\" href=\"#\" title=\"Stop Interaction\"><i class=\"fa fa-power-off icon-remove icon-large\"></i></button>');\n",
       "    button.click(function (evt) { fig.handle_close(fig, {}); } );\n",
       "    button.mouseover('Stop Interaction', toolbar_mouse_event);\n",
       "    buttongrp.append(button);\n",
       "    var titlebar = this.root.find($('.ui-dialog-titlebar'));\n",
       "    titlebar.prepend(buttongrp);\n",
       "}\n",
       "\n",
       "mpl.figure.prototype._root_extra_style = function(el){\n",
       "    var fig = this\n",
       "    el.on(\"remove\", function(){\n",
       "\tfig.close_ws(fig, {});\n",
       "    });\n",
       "}\n",
       "\n",
       "mpl.figure.prototype._canvas_extra_style = function(el){\n",
       "    // this is important to make the div 'focusable\n",
       "    el.attr('tabindex', 0)\n",
       "    // reach out to IPython and tell the keyboard manager to turn it's self\n",
       "    // off when our div gets focus\n",
       "\n",
       "    // location in version 3\n",
       "    if (IPython.notebook.keyboard_manager) {\n",
       "        IPython.notebook.keyboard_manager.register_events(el);\n",
       "    }\n",
       "    else {\n",
       "        // location in version 2\n",
       "        IPython.keyboard_manager.register_events(el);\n",
       "    }\n",
       "\n",
       "}\n",
       "\n",
       "mpl.figure.prototype._key_event_extra = function(event, name) {\n",
       "    var manager = IPython.notebook.keyboard_manager;\n",
       "    if (!manager)\n",
       "        manager = IPython.keyboard_manager;\n",
       "\n",
       "    // Check for shift+enter\n",
       "    if (event.shiftKey && event.which == 13) {\n",
       "        this.canvas_div.blur();\n",
       "        event.shiftKey = false;\n",
       "        // Send a \"J\" for go to next cell\n",
       "        event.which = 74;\n",
       "        event.keyCode = 74;\n",
       "        manager.command_mode();\n",
       "        manager.handle_keydown(event);\n",
       "    }\n",
       "}\n",
       "\n",
       "mpl.figure.prototype.handle_save = function(fig, msg) {\n",
       "    fig.ondownload(fig, null);\n",
       "}\n",
       "\n",
       "\n",
       "mpl.find_output_cell = function(html_output) {\n",
       "    // Return the cell and output element which can be found *uniquely* in the notebook.\n",
       "    // Note - this is a bit hacky, but it is done because the \"notebook_saving.Notebook\"\n",
       "    // IPython event is triggered only after the cells have been serialised, which for\n",
       "    // our purposes (turning an active figure into a static one), is too late.\n",
       "    var cells = IPython.notebook.get_cells();\n",
       "    var ncells = cells.length;\n",
       "    for (var i=0; i<ncells; i++) {\n",
       "        var cell = cells[i];\n",
       "        if (cell.cell_type === 'code'){\n",
       "            for (var j=0; j<cell.output_area.outputs.length; j++) {\n",
       "                var data = cell.output_area.outputs[j];\n",
       "                if (data.data) {\n",
       "                    // IPython >= 3 moved mimebundle to data attribute of output\n",
       "                    data = data.data;\n",
       "                }\n",
       "                if (data['text/html'] == html_output) {\n",
       "                    return [cell, data, j];\n",
       "                }\n",
       "            }\n",
       "        }\n",
       "    }\n",
       "}\n",
       "\n",
       "// Register the function which deals with the matplotlib target/channel.\n",
       "// The kernel may be null if the page has been refreshed.\n",
       "if (IPython.notebook.kernel != null) {\n",
       "    IPython.notebook.kernel.comm_manager.register_target('matplotlib', mpl.mpl_figure_comm);\n",
       "}\n"
      ],
      "text/plain": [
       "<IPython.core.display.Javascript object>"
      ]
     },
     "metadata": {},
     "output_type": "display_data"
    },
    {
     "data": {
      "text/html": [
       "<img src=\"data:image/png;base64,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\" width=\"640\">"
      ],
      "text/plain": [
       "<IPython.core.display.HTML object>"
      ]
     },
     "metadata": {},
     "output_type": "display_data"
    }
   ],
   "source": [
    "fig = plt.figure()\n",
    "ax = fig.add_subplot(111, projection='3d')\n",
    "\n",
    "# n = 100\n",
    "plt.show()"
   ]
  },
  {
   "cell_type": "code",
   "execution_count": null,
   "metadata": {
    "ExecuteTime": {
     "end_time": "2018-11-28T04:18:34.125435Z",
     "start_time": "2018-11-28T04:18:21.005Z"
    }
   },
   "outputs": [],
   "source": [
    "matrix = matrices[0]\n",
    "# For each set of style and range settings, plot n random points in the box\n",
    "# defined by x in [23, 32], y in [0, 100], z in [zlow, zhigh].\n",
    "# for xs, ys, zs in matrix.X:\n",
    "ax.scatter(matrix.X[:,0], matrix.X[:,1], matrix.X[:,2], c='blue', marker='o')\n",
    "\n",
    "ax.set_xlabel('X Label')\n",
    "ax.set_ylabel('Y Label')\n",
    "ax.set_zlabel('Z Label')"
   ]
  },
  {
   "cell_type": "code",
   "execution_count": 66,
   "metadata": {
    "ExecuteTime": {
     "end_time": "2018-11-28T04:48:00.756796Z",
     "start_time": "2018-11-28T04:48:00.717903Z"
    }
   },
   "outputs": [
    {
     "data": {
      "text/plain": [
       "<mpl_toolkits.mplot3d.art3d.Path3DCollection at 0x7fb6e7740320>"
      ]
     },
     "execution_count": 66,
     "metadata": {},
     "output_type": "execute_result"
    }
   ],
   "source": [
    "ax.scatter(base_coords[:,0], base_coords[:,1], base_coords[:,2], c='red', marker='^')"
   ]
  },
  {
   "cell_type": "code",
   "execution_count": 160,
   "metadata": {
    "ExecuteTime": {
     "end_time": "2018-11-28T06:01:03.756503Z",
     "start_time": "2018-11-28T06:01:03.731793Z"
    }
   },
   "outputs": [
    {
     "name": "stdout",
     "output_type": "stream",
     "text": [
      "[ 9.42189655  9.70465517 11.94448276]\n"
     ]
    },
    {
     "data": {
      "text/plain": [
       "[<mpl_toolkits.mplot3d.art3d.Line3D at 0x7fb6e4e53898>]"
      ]
     },
     "execution_count": 160,
     "metadata": {},
     "output_type": "execute_result"
    }
   ],
   "source": [
    "print(centroid)\n",
    "plt.plot([centroid[0]],[centroid[1]],[centroid[2]], c='black', marker='x')"
   ]
  },
  {
   "cell_type": "code",
   "execution_count": 161,
   "metadata": {
    "ExecuteTime": {
     "end_time": "2018-11-28T06:01:06.853264Z",
     "start_time": "2018-11-28T06:01:06.658144Z"
    }
   },
   "outputs": [],
   "source": [
    "coords = np.array([centroid, centroid - sphe2cart(10, np.radians(10), 0)])\n",
    "ax.plot(coords[:,0], coords[:,1], coords[:,2])\n",
    "for theta in range(step, 180, step):\n",
    "    for phi in range(0, 360, step):\n",
    "        coords = np.array([centroid, centroid - sphe2cart(10, np.radians(theta), np.radians(phi))])\n",
    "        ax.plot(coords[:,0], coords[:,1], coords[:,2])"
   ]
  },
  {
   "cell_type": "code",
   "execution_count": 163,
   "metadata": {
    "ExecuteTime": {
     "end_time": "2018-11-28T06:01:53.444934Z",
     "start_time": "2018-11-28T06:01:53.149803Z"
    }
   },
   "outputs": [],
   "source": [
    "# plt.plot(points[:,0], points[:,1], 'o')\n",
    "for simplex in hull.simplices:\n",
    "    plt.plot(matrix.X[simplex, 0], matrix.X[simplex, 1], matrix.X[simplex, 2], 'k-')"
   ]
  },
  {
   "cell_type": "code",
   "execution_count": 147,
   "metadata": {
    "ExecuteTime": {
     "end_time": "2018-11-28T05:55:31.746146Z",
     "start_time": "2018-11-28T05:55:31.722449Z"
    },
    "scrolled": true
   },
   "outputs": [
    {
     "name": "stdout",
     "output_type": "stream",
     "text": [
      "[8.72734653 9.70465517 8.00549384]\n",
      "[8.72734653 9.70465517 8.00549384]\n",
      "(15.311265171349294, 1.0206054754713747, 0.83837094090164)\n"
     ]
    }
   ],
   "source": [
    "ref_point = base_coords[1]\n",
    "intersection, plane = find_plane_ray_intersection(hull, centroid, ref_point)\n",
    "\n",
    "# plane = hull.equations[index]\n",
    "normal = plane[:3]\n",
    "d = plane[3]\n",
    "# create x,y\n",
    "xx, yy = np.meshgrid(range(0,12), range(0,17))\n",
    "\n",
    "# calculate corresponding z\n",
    "z = (-normal[0] * xx - normal[1] * yy - d) * 1. /normal[2]\n",
    "# # plot the surface\n",
    "# plt3d = plt.figure().gca(projection='3d')\n",
    "print(intersection)\n",
    "print(cart2sphe(intersection[0], intersection[1], intersection[2]))"
   ]
  },
  {
   "cell_type": "code",
   "execution_count": 148,
   "metadata": {
    "ExecuteTime": {
     "end_time": "2018-11-28T05:55:33.794198Z",
     "start_time": "2018-11-28T05:55:33.749060Z"
    }
   },
   "outputs": [
    {
     "data": {
      "text/plain": [
       "[<mpl_toolkits.mplot3d.art3d.Line3D at 0x7fb6e58447b8>]"
      ]
     },
     "execution_count": 148,
     "metadata": {},
     "output_type": "execute_result"
    }
   ],
   "source": [
    "ax.plot_surface(xx, yy, z, alpha=0.2)\n",
    "plt.plot([intersection[0]],[intersection[1]],[intersection[2]], c='pink', marker='o')"
   ]
  },
  {
   "cell_type": "code",
   "execution_count": 83,
   "metadata": {
    "ExecuteTime": {
     "end_time": "2018-11-28T04:50:53.211135Z",
     "start_time": "2018-11-28T04:50:53.171867Z"
    }
   },
   "outputs": [
    {
     "name": "stdout",
     "output_type": "stream",
     "text": [
      "21.37789587837217\n",
      "[11.41801447 11.98150057 13.5309653 ]\n"
     ]
    },
    {
     "data": {
      "text/plain": [
       "[<mpl_toolkits.mplot3d.art3d.Line3D at 0x7fb6e5be7da0>]"
      ]
     },
     "execution_count": 83,
     "metadata": {},
     "output_type": "execute_result"
    }
   ],
   "source": [
    "inter2 = find_hull_intersection(hull, base_coords[1])\n",
    "print(inter2)\n",
    "plt.plot([inter2[0]],[inter2[1]],[inter2[2]], c='green', marker='o')"
   ]
  },
  {
   "cell_type": "code",
   "execution_count": 162,
   "metadata": {
    "ExecuteTime": {
     "end_time": "2018-11-28T06:01:38.317991Z",
     "start_time": "2018-11-28T06:01:38.289611Z"
    }
   },
   "outputs": [
    {
     "data": {
      "text/plain": [
       "<mpl_toolkits.mplot3d.art3d.Path3DCollection at 0x7fb6e4df6860>"
      ]
     },
     "execution_count": 162,
     "metadata": {},
     "output_type": "execute_result"
    }
   ],
   "source": [
    "ax.scatter(all_points[:,0], all_points[:,1], all_points[:,2], c='red', marker='^')"
   ]
  }
 ],
 "metadata": {
  "anaconda-cloud": {},
  "kernelspec": {
   "display_name": "Python 3",
   "language": "python",
   "name": "python3"
  },
  "language_info": {
   "codemirror_mode": {
    "name": "ipython",
    "version": 3
   },
   "file_extension": ".py",
   "mimetype": "text/x-python",
   "name": "python",
   "nbconvert_exporter": "python",
   "pygments_lexer": "ipython3",
   "version": "3.6.7"
  }
 },
 "nbformat": 4,
 "nbformat_minor": 1
}
