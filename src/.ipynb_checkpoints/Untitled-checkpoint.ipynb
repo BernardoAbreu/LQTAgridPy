{
 "cells": [
  {
   "cell_type": "code",
   "execution_count": 1,
   "metadata": {
    "ExecuteTime": {
     "end_time": "2018-11-26T19:43:26.210340Z",
     "start_time": "2018-11-26T19:43:25.361276Z"
    }
   },
   "outputs": [],
   "source": [
    "import pandas as pd\n",
    "import os\n",
    "import numpy as np"
   ]
  },
  {
   "cell_type": "code",
   "execution_count": 2,
   "metadata": {
    "ExecuteTime": {
     "end_time": "2018-11-26T19:43:26.248389Z",
     "start_time": "2018-11-26T19:43:26.229604Z"
    }
   },
   "outputs": [],
   "source": [
    "coordinates = (2, 2, 2)\n",
    "dimensions = (3, 3, 3)\n",
    "atp = ('NH3+',)\n",
    "directory = '../Datasets/TP'\n",
    "step = 0.5"
   ]
  },
  {
   "cell_type": "code",
   "execution_count": 3,
   "metadata": {
    "ExecuteTime": {
     "end_time": "2018-11-26T19:43:26.318114Z",
     "start_time": "2018-11-26T19:43:26.264137Z"
    }
   },
   "outputs": [
    {
     "data": {
      "text/plain": [
       "['ff33nb.itp',\n",
       " 'ff1nb.itp',\n",
       " '25_PAC.gro',\n",
       " '23.top',\n",
       " '28_PAC.gro',\n",
       " '14.top',\n",
       " '3.top',\n",
       " 'ff7nb.itp',\n",
       " '8_PAC.gro',\n",
       " 'ff36nb.itp',\n",
       " '33.top',\n",
       " '24_PAC.gro',\n",
       " '20.top',\n",
       " '19.top',\n",
       " '25.top',\n",
       " 'ff3nb.itp',\n",
       " '5.top',\n",
       " '15.top',\n",
       " '14_PAC.gro',\n",
       " 'ff29nb.itp',\n",
       " '4_PAC.gro',\n",
       " 'ff10nb.itp',\n",
       " '27.top',\n",
       " 'ff25nb.itp',\n",
       " 'ff24nb.itp',\n",
       " 'ff13nb.itp',\n",
       " 'ff32nb.itp',\n",
       " 'ff5nb.itp',\n",
       " 'ff31nb.itp',\n",
       " 'ff28nb.itp',\n",
       " '17.top',\n",
       " '31_PAC.gro',\n",
       " '7.top',\n",
       " '2.top',\n",
       " 'ff4nb.itp',\n",
       " 'ff20nb.itp',\n",
       " 'ff34nb.itp',\n",
       " 'ff15nb.itp',\n",
       " '29.top',\n",
       " 'ff19nb.itp',\n",
       " '12_PAC.gro',\n",
       " '27_PAC.gro',\n",
       " 'ff16nb.itp',\n",
       " '12.top',\n",
       " '22.top',\n",
       " '21_PAC.gro',\n",
       " '15_PAC.gro',\n",
       " '8.top',\n",
       " '35.top',\n",
       " '24.top',\n",
       " '20_PAC.gro',\n",
       " '32_PAC.gro',\n",
       " '9.top',\n",
       " 'ff6nb.itp',\n",
       " '6.top',\n",
       " 'ff30nb.itp',\n",
       " '13.top',\n",
       " '5_PAC.gro',\n",
       " '17_PAC.gro',\n",
       " '3_PAC.gro',\n",
       " '37_PAC.gro',\n",
       " '18.top',\n",
       " '7_PAC.gro',\n",
       " 'ff12nb.itp',\n",
       " '28.top',\n",
       " '10.top',\n",
       " '31.top',\n",
       " 'ff23nb.itp',\n",
       " '9_PAC.gro',\n",
       " 'ff18nb.itp',\n",
       " '30_PAC.gro',\n",
       " '22_PAC.gro',\n",
       " '26_PAC.gro',\n",
       " '2_PAC.gro',\n",
       " '11_PAC.gro',\n",
       " '33_PAC.gro',\n",
       " '29_PAC.gro',\n",
       " 'ff26nb.itp',\n",
       " 'ff2nb.itp',\n",
       " '16.top',\n",
       " '10_PAC.gro',\n",
       " '1_PAC.gro',\n",
       " '36_PAC.gro',\n",
       " '11.top',\n",
       " '26.top',\n",
       " '21.top',\n",
       " 'ff27nb.itp',\n",
       " '36.top',\n",
       " '16_PAC.gro',\n",
       " 'ff8nb.itp',\n",
       " 'ff17nb.itp',\n",
       " '1.top',\n",
       " '4.top',\n",
       " '34.top',\n",
       " '19_PAC.gro',\n",
       " '23_PAC.gro',\n",
       " '30.top',\n",
       " 'ff35nb.itp',\n",
       " 'ff11nb.itp',\n",
       " '37.top',\n",
       " '6_PAC.gro',\n",
       " 'ff21nb.itp',\n",
       " 'ff22nb.itp',\n",
       " '18_PAC.gro',\n",
       " '32.top',\n",
       " '34_PAC.gro',\n",
       " 'ff37nb.itp',\n",
       " 'ff14nb.itp',\n",
       " 'ff9nb.itp',\n",
       " '13_PAC.gro',\n",
       " '35_PAC.gro']"
      ]
     },
     "execution_count": 3,
     "metadata": {},
     "output_type": "execute_result"
    }
   ],
   "source": [
    "dataFile = os.listdir(directory)\n",
    "dataFile"
   ]
  },
  {
   "cell_type": "code",
   "execution_count": 4,
   "metadata": {
    "ExecuteTime": {
     "end_time": "2018-11-26T19:43:26.362968Z",
     "start_time": "2018-11-26T19:43:26.332881Z"
    }
   },
   "outputs": [
    {
     "data": {
      "text/plain": [
       "['10_PAC',\n",
       " '11_PAC',\n",
       " '12_PAC',\n",
       " '13_PAC',\n",
       " '14_PAC',\n",
       " '15_PAC',\n",
       " '16_PAC',\n",
       " '17_PAC',\n",
       " '18_PAC',\n",
       " '19_PAC',\n",
       " '1_PAC',\n",
       " '20_PAC',\n",
       " '21_PAC',\n",
       " '22_PAC',\n",
       " '23_PAC',\n",
       " '24_PAC',\n",
       " '25_PAC',\n",
       " '26_PAC',\n",
       " '27_PAC',\n",
       " '28_PAC',\n",
       " '29_PAC',\n",
       " '2_PAC',\n",
       " '30_PAC',\n",
       " '31_PAC',\n",
       " '32_PAC',\n",
       " '33_PAC',\n",
       " '34_PAC',\n",
       " '35_PAC',\n",
       " '36_PAC',\n",
       " '37_PAC',\n",
       " '3_PAC',\n",
       " '4_PAC',\n",
       " '5_PAC',\n",
       " '6_PAC',\n",
       " '7_PAC',\n",
       " '8_PAC',\n",
       " '9_PAC']"
      ]
     },
     "execution_count": 4,
     "metadata": {},
     "output_type": "execute_result"
    }
   ],
   "source": [
    "molecules = [x.replace('.gro', '') for x in dataFile if x.endswith('gro')]\n",
    "molecules.sort()\n",
    "molecules"
   ]
  },
  {
   "cell_type": "code",
   "execution_count": 5,
   "metadata": {
    "ExecuteTime": {
     "end_time": "2018-11-26T19:43:26.397582Z",
     "start_time": "2018-11-26T19:43:26.382944Z"
    }
   },
   "outputs": [],
   "source": [
    "dataFile = [directory + '/' + fileName for fileName in dataFile]\n",
    "groFiles = [x for x in dataFile if x.endswith('gro')]\n",
    "groFiles.sort()\n",
    "topFiles = [x for x in dataFile if x.endswith('top')]\n",
    "topFiles.sort()"
   ]
  },
  {
   "cell_type": "code",
   "execution_count": 6,
   "metadata": {
    "ExecuteTime": {
     "end_time": "2018-11-26T19:43:26.431234Z",
     "start_time": "2018-11-26T19:43:26.411293Z"
    }
   },
   "outputs": [
    {
     "name": "stdout",
     "output_type": "stream",
     "text": [
      "['../Datasets/TP/10_PAC.gro', '../Datasets/TP/11_PAC.gro', '../Datasets/TP/12_PAC.gro', '../Datasets/TP/13_PAC.gro', '../Datasets/TP/14_PAC.gro', '../Datasets/TP/15_PAC.gro', '../Datasets/TP/16_PAC.gro', '../Datasets/TP/17_PAC.gro', '../Datasets/TP/18_PAC.gro', '../Datasets/TP/19_PAC.gro', '../Datasets/TP/1_PAC.gro', '../Datasets/TP/20_PAC.gro', '../Datasets/TP/21_PAC.gro', '../Datasets/TP/22_PAC.gro', '../Datasets/TP/23_PAC.gro', '../Datasets/TP/24_PAC.gro', '../Datasets/TP/25_PAC.gro', '../Datasets/TP/26_PAC.gro', '../Datasets/TP/27_PAC.gro', '../Datasets/TP/28_PAC.gro', '../Datasets/TP/29_PAC.gro', '../Datasets/TP/2_PAC.gro', '../Datasets/TP/30_PAC.gro', '../Datasets/TP/31_PAC.gro', '../Datasets/TP/32_PAC.gro', '../Datasets/TP/33_PAC.gro', '../Datasets/TP/34_PAC.gro', '../Datasets/TP/35_PAC.gro', '../Datasets/TP/36_PAC.gro', '../Datasets/TP/37_PAC.gro', '../Datasets/TP/3_PAC.gro', '../Datasets/TP/4_PAC.gro', '../Datasets/TP/5_PAC.gro', '../Datasets/TP/6_PAC.gro', '../Datasets/TP/7_PAC.gro', '../Datasets/TP/8_PAC.gro', '../Datasets/TP/9_PAC.gro']\n"
     ]
    }
   ],
   "source": [
    "print(groFiles)"
   ]
  },
  {
   "cell_type": "code",
   "execution_count": 7,
   "metadata": {
    "ExecuteTime": {
     "end_time": "2018-11-26T19:43:26.461933Z",
     "start_time": "2018-11-26T19:43:26.442749Z"
    }
   },
   "outputs": [
    {
     "name": "stdout",
     "output_type": "stream",
     "text": [
      "['../Datasets/TP/1.top', '../Datasets/TP/10.top', '../Datasets/TP/11.top', '../Datasets/TP/12.top', '../Datasets/TP/13.top', '../Datasets/TP/14.top', '../Datasets/TP/15.top', '../Datasets/TP/16.top', '../Datasets/TP/17.top', '../Datasets/TP/18.top', '../Datasets/TP/19.top', '../Datasets/TP/2.top', '../Datasets/TP/20.top', '../Datasets/TP/21.top', '../Datasets/TP/22.top', '../Datasets/TP/23.top', '../Datasets/TP/24.top', '../Datasets/TP/25.top', '../Datasets/TP/26.top', '../Datasets/TP/27.top', '../Datasets/TP/28.top', '../Datasets/TP/29.top', '../Datasets/TP/3.top', '../Datasets/TP/30.top', '../Datasets/TP/31.top', '../Datasets/TP/32.top', '../Datasets/TP/33.top', '../Datasets/TP/34.top', '../Datasets/TP/35.top', '../Datasets/TP/36.top', '../Datasets/TP/37.top', '../Datasets/TP/4.top', '../Datasets/TP/5.top', '../Datasets/TP/6.top', '../Datasets/TP/7.top', '../Datasets/TP/8.top', '../Datasets/TP/9.top']\n"
     ]
    }
   ],
   "source": [
    "print(topFiles)"
   ]
  },
  {
   "cell_type": "code",
   "execution_count": 8,
   "metadata": {
    "ExecuteTime": {
     "end_time": "2018-11-26T19:43:26.499059Z",
     "start_time": "2018-11-26T19:43:26.473398Z"
    }
   },
   "outputs": [
    {
     "data": {
      "text/plain": [
       "['../Datasets/TP/ff10nb.itp',\n",
       " '../Datasets/TP/ff11nb.itp',\n",
       " '../Datasets/TP/ff12nb.itp',\n",
       " '../Datasets/TP/ff13nb.itp',\n",
       " '../Datasets/TP/ff14nb.itp',\n",
       " '../Datasets/TP/ff15nb.itp',\n",
       " '../Datasets/TP/ff16nb.itp',\n",
       " '../Datasets/TP/ff17nb.itp',\n",
       " '../Datasets/TP/ff18nb.itp',\n",
       " '../Datasets/TP/ff19nb.itp',\n",
       " '../Datasets/TP/ff1nb.itp',\n",
       " '../Datasets/TP/ff20nb.itp',\n",
       " '../Datasets/TP/ff21nb.itp',\n",
       " '../Datasets/TP/ff22nb.itp',\n",
       " '../Datasets/TP/ff23nb.itp',\n",
       " '../Datasets/TP/ff24nb.itp',\n",
       " '../Datasets/TP/ff25nb.itp',\n",
       " '../Datasets/TP/ff26nb.itp',\n",
       " '../Datasets/TP/ff27nb.itp',\n",
       " '../Datasets/TP/ff28nb.itp',\n",
       " '../Datasets/TP/ff29nb.itp',\n",
       " '../Datasets/TP/ff2nb.itp',\n",
       " '../Datasets/TP/ff30nb.itp',\n",
       " '../Datasets/TP/ff31nb.itp',\n",
       " '../Datasets/TP/ff32nb.itp',\n",
       " '../Datasets/TP/ff33nb.itp',\n",
       " '../Datasets/TP/ff34nb.itp',\n",
       " '../Datasets/TP/ff35nb.itp',\n",
       " '../Datasets/TP/ff36nb.itp',\n",
       " '../Datasets/TP/ff37nb.itp',\n",
       " '../Datasets/TP/ff3nb.itp',\n",
       " '../Datasets/TP/ff4nb.itp',\n",
       " '../Datasets/TP/ff5nb.itp',\n",
       " '../Datasets/TP/ff6nb.itp',\n",
       " '../Datasets/TP/ff7nb.itp',\n",
       " '../Datasets/TP/ff8nb.itp',\n",
       " '../Datasets/TP/ff9nb.itp']"
      ]
     },
     "execution_count": 8,
     "metadata": {},
     "output_type": "execute_result"
    }
   ],
   "source": [
    "itpFiles = [x for x in dataFile if x.endswith('nb.itp')]\n",
    "itpFiles.sort()\n",
    "itpFiles"
   ]
  },
  {
   "cell_type": "code",
   "execution_count": 9,
   "metadata": {
    "ExecuteTime": {
     "end_time": "2018-11-26T19:43:26.525143Z",
     "start_time": "2018-11-26T19:43:26.509763Z"
    }
   },
   "outputs": [],
   "source": [
    "matrices = []\n",
    "\n",
    "minimos = [999999.0, 999999.0, 999999.0]\n",
    "maximos = [-999999.0, -999999.0, -999999.0]"
   ]
  },
  {
   "cell_type": "code",
   "execution_count": 10,
   "metadata": {
    "ExecuteTime": {
     "end_time": "2018-11-26T19:43:26.561065Z",
     "start_time": "2018-11-26T19:43:26.536966Z"
    }
   },
   "outputs": [
    {
     "name": "stdout",
     "output_type": "stream",
     "text": [
      "37\n",
      "37\n",
      "37\n"
     ]
    }
   ],
   "source": [
    "print(len(groFiles))\n",
    "print(len(topFiles))\n",
    "print(len(itpFiles))"
   ]
  },
  {
   "cell_type": "code",
   "execution_count": 33,
   "metadata": {
    "ExecuteTime": {
     "end_time": "2018-11-26T19:50:28.885747Z",
     "start_time": "2018-11-26T19:50:28.676306Z"
    },
    "code_folding": [
     9,
     11,
     24,
     25,
     61,
     108,
     149,
     199,
     206,
     278
    ]
   },
   "outputs": [],
   "source": [
    "class MatrixGenerate():\n",
    "\n",
    "    def __init__(self, fileGro, fileTop, fileItp):\n",
    "        self.setX(fileGro)\n",
    "        self.atomsTypes(fileTop)\n",
    "        return\n",
    "        self.loadConstants(fileItp)\n",
    "        self.loadAP()\n",
    "        self.determineConstants()\n",
    "\n",
    "    def setX(self, fileName):\n",
    "        print(fileName)\n",
    "        with open(fileName) as f:\n",
    "            input = f.readlines()\n",
    "\n",
    "        currentLine = 1  # linha 1 do arquivo gro contem o numero de atomos\n",
    "        line = input[currentLine]\n",
    "        # coordenadas dos atomos\n",
    "        x = []\n",
    "        y = []\n",
    "        z = []\n",
    "        self.numberElements = int(input[currentLine])\n",
    "        self.c6 = []\n",
    "        self.c12 = []\n",
    "\n",
    "        while True:\n",
    "            for i in range(self.numberElements):\n",
    "                # as coordenadas dos atomos comecam a partir\n",
    "                # da quarta coluna do arquivo\n",
    "                currentToken = 3\n",
    "\n",
    "                # pula uma linha para chegar na primeira linha\n",
    "                # com coordenadas dos atomos\n",
    "                currentLine += 1\n",
    "                line = input[currentLine]\n",
    "\n",
    "                # tokens = re.findall(r\"[\\w\\.']+\", line)\n",
    "                tokens = line.split()\n",
    "                x.insert(i, tokens[currentToken])\n",
    "                currentToken += 1\n",
    "                y.insert(i, tokens[currentToken])\n",
    "                currentToken += 1\n",
    "                z.insert(i, tokens[currentToken])\n",
    "\n",
    "            currentLine += 1\n",
    "            if len(input) > currentLine + 1:\n",
    "                # se nao chegou ao fim do arquivo pula uma linha a mais\n",
    "                # para ir para o proximo frame da dinamica\n",
    "                currentLine += 1\n",
    "            else:\n",
    "                break\n",
    "\n",
    "            currentLine += 1\n",
    "\n",
    "        # numero de linhas da matriz gerada\n",
    "        self.m = len(x)\n",
    "        # cria-se matriz com 3 linhas (uma para cada coordenada x, y e z)\n",
    "        # e as colunas como coordenadas\n",
    "        self.X = [[0 for self.X in range(3)] for self.X in range(self.m)]\n",
    "\n",
    "        self.minimos = [float(x[0]) * 10, float(y[0]) * 10, float(z[0]) * 10]\n",
    "        self.maximos = [float(x[0]) * 10, float(y[0]) * 10, float(z[0]) * 10]\n",
    "        for i in range(self.m):\n",
    "            self.X[i][0] = float(x[i]) * 10\n",
    "            self.X[i][1] = float(y[i]) * 10\n",
    "            self.X[i][2] = float(z[i]) * 10\n",
    "            self.minimos[0] = min(self.minimos[0], self.X[i][0])\n",
    "            self.minimos[1] = min(self.minimos[1], self.X[i][1])\n",
    "            self.minimos[2] = min(self.minimos[2], self.X[i][2])\n",
    "            self.maximos[0] = max(self.maximos[0], self.X[i][0])\n",
    "            self.maximos[1] = max(self.maximos[1], self.X[i][1])\n",
    "            self.maximos[2] = max(self.maximos[2], self.X[i][2])\n",
    "\n",
    "    def atomsTypes(self, fileName):\n",
    "        with open(fileName) as f:\n",
    "            input = f.readlines()\n",
    "\n",
    "        self.types = []\n",
    "        self.cargas = []\n",
    "\n",
    "        currentLine = 0\n",
    "        line = input[currentLine]\n",
    "\n",
    "        tokens = re.findall(r\"[\\w\\.']+\", line)\n",
    "        token = \"\"\n",
    "\n",
    "        while token != \"atoms\":\n",
    "            currentToken = 0\n",
    "            currentLine += 1\n",
    "            line = input[currentLine]\n",
    "\n",
    "            if line != \"\":\n",
    "                tokens = re.findall(r\"[\\w\\.\\-\\+\\[\\]\\;\\n\\=']+\", line)\n",
    "\n",
    "                if tokens[currentToken] == \"[\":\n",
    "                    currentToken += 1\n",
    "                    token = tokens[currentToken]\n",
    "\n",
    "        currentLine += 2\n",
    "        line = input[currentLine]\n",
    "        for i in range(self.numberElements):\n",
    "            tokens = re.findall(r\"[\\w\\.\\-\\+\\[\\]\\;\\n\\=']+\", line)\n",
    "            currentToken = 1\n",
    "            self.types.insert(i, tokens[currentToken])\n",
    "            currentToken += 5\n",
    "            self.cargas.insert(i, tokens[currentToken])\n",
    "            currentLine += 1\n",
    "            line = input[currentLine]\n",
    "            print(i)\n",
    "\n",
    "    def loadConstants(self, fileName):\n",
    "        with open(fileName) as f:\n",
    "            input = f.readlines()\n",
    "\n",
    "        ttype = []  # tipos de atomos\n",
    "        sigma = []\n",
    "        epsilon = []\n",
    "        currentLine = 0\n",
    "        line = input[currentLine]\n",
    "        index = 1\n",
    "\n",
    "        while line != \"[ atomtypes ]\\n\":\n",
    "            currentLine += 1\n",
    "            line = input[currentLine]\n",
    "        currentLine += 1\n",
    "\n",
    "        while len(input) > currentLine + 1:\n",
    "            currentToken = 0\n",
    "            currentLine += 1\n",
    "            line = input[currentLine]\n",
    "            tokens = re.findall(r\"[\\w\\.\\-\\+']+\", line)\n",
    "            ttype.insert(index, tokens[currentToken])\n",
    "            currentToken += 4\n",
    "            sigma.insert(index, tokens[currentToken])\n",
    "            currentToken += 1\n",
    "            epsilon.insert(index, tokens[currentToken])\n",
    "            index += 1\n",
    "\n",
    "        nttypes = len(ttype)\n",
    "        self.typeConstants = []\n",
    "        self.constantc6 = []\n",
    "        self.constantc12 = []\n",
    "\n",
    "        for i in range(nttypes):\n",
    "            self.typeConstants.insert(i, ttype[i])  # tipos de atomos\n",
    "\n",
    "            self.constantc6.insert(i, 4.0 * float(epsilon[i]) *\n",
    "                                   (float(sigma[i]) ** 6))\n",
    "            self.constantc12.insert(i, 4.0 * float(epsilon[i]) *\n",
    "                                    (float(sigma[i]) ** 12))\n",
    "\n",
    "    def loadAP(self):\n",
    "        filename = os.path.dirname(__file__) + '/defaultsFiles/AtomProva.atp'\n",
    "        with open(filename, 'r') as f:\n",
    "            input = f.readlines()\n",
    "\n",
    "        # self.ap = []\n",
    "        # self.cargasap = []\n",
    "        # self.c6ap = []\n",
    "        # self.c12ap = []\n",
    "\n",
    "        # currentLine = 1\n",
    "        # line = input[currentLine]\n",
    "        # index = 0\n",
    "\n",
    "        # while len(input) > currentLine + 1:\n",
    "        #     currentToken = 0\n",
    "        #     currentLine += 1\n",
    "        #     line = input[currentLine]\n",
    "        #     tokens = re.findall(r\"[\\w\\.\\-\\+\\(\\)\\=']+\", line)\n",
    "        #     self.ap.insert(index, tokens[currentToken])\n",
    "        #     currentToken += 1\n",
    "        #     self.cargasap.insert(index, float(tokens[currentToken]))\n",
    "        #     currentToken += 1\n",
    "        #     self.c6ap.insert(index, float(tokens[currentToken]))\n",
    "        #     currentToken += 1\n",
    "        #     self.c12ap.insert(index, float(tokens[currentToken]))\n",
    "        #     index += 1\n",
    "\n",
    "        currentLine = 1\n",
    "        line = input[currentLine]\n",
    "        self.ap = {}\n",
    "\n",
    "        while len(input) > currentLine + 1:\n",
    "            currentToken = 0\n",
    "            currentLine += 1\n",
    "            line = input[currentLine]\n",
    "            tokens = line.split()\n",
    "            # ap.insert(index, tokens[currentToken])\n",
    "            group = tokens[currentToken]\n",
    "            self.ap[group] = {}\n",
    "            currentToken += 1\n",
    "            # cargasap.insert(index, float(tokens[currentToken]))\n",
    "            self.ap[group]['carga'] = float(tokens[currentToken])\n",
    "            currentToken += 1\n",
    "            # c6ap.insert(index, float(tokens[currentToken]))\n",
    "            self.ap[group]['c6'] = float(tokens[currentToken])\n",
    "            currentToken += 1\n",
    "            # c12ap.insert(index, float(tokens[currentToken]))\n",
    "            self.ap[group]['c12'] = float(tokens[currentToken])\n",
    "\n",
    "    def determineConstants(self):\n",
    "        for i in range(self.numberElements):\n",
    "            # index = self.search(self.typeConstants, self.types[i])\n",
    "            index = self.typeConstants.index(self.types[i])\n",
    "            self.c6.insert(i, self.constantc6[index])\n",
    "            self.c12.insert(i, self.constantc12[index])\n",
    "\n",
    "    def gridGenerate(self, dimX, dimY, dimZ, atp, x0, y0, z0, step):\n",
    "        self.DimX = dimX\n",
    "        self.DimY = dimY\n",
    "        self.DimZ = dimZ\n",
    "        self.natp = len(atp)\n",
    "\n",
    "        f = 138.935485\n",
    "        nframes = self.m / self.numberElements\n",
    "        # self.gridCoulomb = [[[[0 for x in range(self.natp)] for x in range(self.DimZ)]\n",
    "        #                    for x in range(self.DimY)] for x in range(self.DimX)]\n",
    "\n",
    "        # self.gridLJ = [[[[0 for x in range(self.natp)] for x in range(self.DimZ)]\n",
    "        #                for x in range(self.DimY)] for x in range(self.DimX)]\n",
    "        self.gridCoulomb = {}\n",
    "        self.gridLJ = {}\n",
    "\n",
    "        count = 0\n",
    "        # esse loop roda sobre o número de sondas escolhidas\n",
    "        for h in range(self.natp):\n",
    "            # elem = self.search(self.ap, atp[h])\n",
    "            # elem = self.ap.index(atp[h]) # encontra-se a posicao no vetor de elementos do elemento em questao\n",
    "            # carrega-se as respectivas constantes\n",
    "            q1 = self.ap[atp[h]]['carga']  # self.cargasap[elem]\n",
    "            c6a = self.ap[atp[h]]['c6']  # self.c6ap[elem]\n",
    "            c12a = self.ap[atp[h]]['c12']  # self.c12ap[elem]\n",
    "            Vlj = 0\n",
    "            Vc = 0\n",
    "            npontos = 0\n",
    "            # r1 = []\n",
    "            r1 = [0.0, 0.0, 0.0]\n",
    "            self.gridCoulomb[atp[h]] = {}\n",
    "            self.gridLJ[atp[h]] = {}\n",
    "            # aqui começa o loop que gera as coordenadas cartesianas\n",
    "            # acho que você pode gerar os pontos com o fecho convexo e\n",
    "            # substituir esses 3 loops por um loop sobre os pontos gerados\n",
    "            for i in arange(x0, self.DimX + x0 + step, step):\n",
    "                r1[0] = i + x0\n",
    "                self.gridCoulomb[atp[h]][i] = {}\n",
    "                self.gridLJ[atp[h]][i] = {}\n",
    "                for j in arange(y0, self.DimY + y0 + step, step):\n",
    "                    r1[1] = j + y0\n",
    "                    self.gridCoulomb[atp[h]][i][j] = {}\n",
    "                    self.gridLJ[atp[h]][i][j] = {}\n",
    "                    for k in arange(z0, self.DimZ + z0 + step, step):\n",
    "                        r1[2] = k + z0\n",
    "                        Vlj = 0\n",
    "                        Vc = 0\n",
    "                        npontos += 1\n",
    "                        self.gridCoulomb[atp[h]][i][j][k] = {}\n",
    "                        self.gridLJ[atp[h]][i][j][k] = {}\n",
    "                        count += 1\n",
    "                        # geradas as coordenadas cartesianas começa o loop\n",
    "                        # sobre os átomos do PAC para calcular os descriotres\n",
    "                        # com base na distância entre a sonda e os átomos\n",
    "                        for l in range(self.m):\n",
    "                            r = utils.Distance(r1, self.X[l]) / 10\n",
    "                            index = l % self.numberElements\n",
    "                            c6ij = math.sqrt(c6a * self.c6[index])\n",
    "                            c12ij = math.sqrt(c12a * self.c12[index])\n",
    "\n",
    "                            if r != 0:\n",
    "                                Vlj = Vlj + (c12ij / (math.pow(r, 12))) - \\\n",
    "                                    (c6ij / (math.pow(r, 6)))\n",
    "                                Vc = Vc + f * float(q1) * \\\n",
    "                                    float(self.cargas[index]) / r\n",
    "                            else:\n",
    "                                Vlj = float(\"inf\")\n",
    "                                Vc = float(\"inf\")\n",
    "\n",
    "                        self.gridCoulomb[atp[h]][i][j][k] = Vc / nframes\n",
    "                        self.gridLJ[atp[h]][i][j][k] = Vlj / math.sqrt(nframes)\n",
    "\n",
    "    def getMatrix(self):\n",
    "        textValuesCoulomb = \"\"\n",
    "        textValuesLj = \"\"\n",
    "        coulombMatrix = []\n",
    "        ljMatrix = []\n",
    "        count0 = 0\n",
    "        count = 0\n",
    "        for h in self.gridCoulomb:\n",
    "            for i in self.gridCoulomb[h]:\n",
    "                for j in self.gridCoulomb[h][i]:\n",
    "                    for k in self.gridCoulomb[h][i][j]:\n",
    "                        textValuesCoulomb += \"%g\\t\" % (self.gridCoulomb[h][i][j][k])\n",
    "                        textValuesLj += \"%g\\t\" % (self.gridLJ[h][i][j][k])\n",
    "                        coulombMatrix.append(self.gridCoulomb[h][i][j][k])\n",
    "                        ljMatrix.append(self.gridLJ[h][i][j][k])\n",
    "                        count += 1\n",
    "        return textValuesCoulomb, textValuesLj, coulombMatrix, ljMatrix\n"
   ]
  },
  {
   "cell_type": "code",
   "execution_count": 34,
   "metadata": {
    "ExecuteTime": {
     "end_time": "2018-11-26T19:50:30.004329Z",
     "start_time": "2018-11-26T19:50:29.899107Z"
    },
    "scrolled": true
   },
   "outputs": [
    {
     "name": "stdout",
     "output_type": "stream",
     "text": [
      "../Datasets/TP/10_PAC.gro ../Datasets/TP/1.top ../Datasets/TP/ff10nb.itp\n",
      "../Datasets/TP/10_PAC.gro\n",
      "0\n",
      "1\n",
      "2\n",
      "3\n",
      "4\n",
      "5\n",
      "6\n",
      "7\n",
      "8\n",
      "9\n",
      "10\n",
      "11\n",
      "12\n",
      "13\n",
      "14\n",
      "15\n",
      "16\n"
     ]
    },
    {
     "ename": "IndexError",
     "evalue": "list index out of range",
     "output_type": "error",
     "traceback": [
      "\u001b[0;31m---------------------------------------------------------------------------\u001b[0m",
      "\u001b[0;31mIndexError\u001b[0m                                Traceback (most recent call last)",
      "\u001b[0;32m<ipython-input-34-699a79134cc2>\u001b[0m in \u001b[0;36m<module>\u001b[0;34m\u001b[0m\n\u001b[1;32m      2\u001b[0m \u001b[0mi\u001b[0m\u001b[0;34m=\u001b[0m\u001b[0;36m0\u001b[0m\u001b[0;34m\u001b[0m\u001b[0;34m\u001b[0m\u001b[0m\n\u001b[1;32m      3\u001b[0m \u001b[0mprint\u001b[0m\u001b[0;34m(\u001b[0m\u001b[0mgroFiles\u001b[0m\u001b[0;34m[\u001b[0m\u001b[0mi\u001b[0m\u001b[0;34m]\u001b[0m\u001b[0;34m,\u001b[0m \u001b[0mtopFiles\u001b[0m\u001b[0;34m[\u001b[0m\u001b[0mi\u001b[0m\u001b[0;34m]\u001b[0m\u001b[0;34m,\u001b[0m \u001b[0mitpFiles\u001b[0m\u001b[0;34m[\u001b[0m\u001b[0mi\u001b[0m\u001b[0;34m]\u001b[0m\u001b[0;34m)\u001b[0m\u001b[0;34m\u001b[0m\u001b[0;34m\u001b[0m\u001b[0m\n\u001b[0;32m----> 4\u001b[0;31m \u001b[0mmatrix\u001b[0m \u001b[0;34m=\u001b[0m \u001b[0mMatrixGenerate\u001b[0m\u001b[0;34m(\u001b[0m\u001b[0mgroFiles\u001b[0m\u001b[0;34m[\u001b[0m\u001b[0mi\u001b[0m\u001b[0;34m]\u001b[0m\u001b[0;34m,\u001b[0m \u001b[0mtopFiles\u001b[0m\u001b[0;34m[\u001b[0m\u001b[0mi\u001b[0m\u001b[0;34m]\u001b[0m\u001b[0;34m,\u001b[0m \u001b[0mitpFiles\u001b[0m\u001b[0;34m[\u001b[0m\u001b[0mi\u001b[0m\u001b[0;34m]\u001b[0m\u001b[0;34m)\u001b[0m\u001b[0;34m\u001b[0m\u001b[0;34m\u001b[0m\u001b[0m\n\u001b[0m\u001b[1;32m      5\u001b[0m \u001b[0;31m#     minimos[0] = min(minimos[0], matrix.minimos[0])\u001b[0m\u001b[0;34m\u001b[0m\u001b[0;34m\u001b[0m\u001b[0;34m\u001b[0m\u001b[0m\n\u001b[1;32m      6\u001b[0m \u001b[0;31m#     minimos[1] = min(minimos[1], matrix.minimos[1])\u001b[0m\u001b[0;34m\u001b[0m\u001b[0;34m\u001b[0m\u001b[0;34m\u001b[0m\u001b[0m\n",
      "\u001b[0;32m<ipython-input-33-a86aec6848bf>\u001b[0m in \u001b[0;36m__init__\u001b[0;34m(self, fileGro, fileTop, fileItp)\u001b[0m\n\u001b[1;32m      3\u001b[0m     \u001b[0;32mdef\u001b[0m \u001b[0m__init__\u001b[0m\u001b[0;34m(\u001b[0m\u001b[0mself\u001b[0m\u001b[0;34m,\u001b[0m \u001b[0mfileGro\u001b[0m\u001b[0;34m,\u001b[0m \u001b[0mfileTop\u001b[0m\u001b[0;34m,\u001b[0m \u001b[0mfileItp\u001b[0m\u001b[0;34m)\u001b[0m\u001b[0;34m:\u001b[0m\u001b[0;34m\u001b[0m\u001b[0;34m\u001b[0m\u001b[0m\n\u001b[1;32m      4\u001b[0m         \u001b[0mself\u001b[0m\u001b[0;34m.\u001b[0m\u001b[0msetX\u001b[0m\u001b[0;34m(\u001b[0m\u001b[0mfileGro\u001b[0m\u001b[0;34m)\u001b[0m\u001b[0;34m\u001b[0m\u001b[0;34m\u001b[0m\u001b[0m\n\u001b[0;32m----> 5\u001b[0;31m         \u001b[0mself\u001b[0m\u001b[0;34m.\u001b[0m\u001b[0matomsTypes\u001b[0m\u001b[0;34m(\u001b[0m\u001b[0mfileTop\u001b[0m\u001b[0;34m)\u001b[0m\u001b[0;34m\u001b[0m\u001b[0;34m\u001b[0m\u001b[0m\n\u001b[0m\u001b[1;32m      6\u001b[0m         \u001b[0;32mreturn\u001b[0m\u001b[0;34m\u001b[0m\u001b[0;34m\u001b[0m\u001b[0m\n\u001b[1;32m      7\u001b[0m         \u001b[0mself\u001b[0m\u001b[0;34m.\u001b[0m\u001b[0mloadConstants\u001b[0m\u001b[0;34m(\u001b[0m\u001b[0mfileItp\u001b[0m\u001b[0;34m)\u001b[0m\u001b[0;34m\u001b[0m\u001b[0;34m\u001b[0m\u001b[0m\n",
      "\u001b[0;32m<ipython-input-33-a86aec6848bf>\u001b[0m in \u001b[0;36matomsTypes\u001b[0;34m(self, fileName)\u001b[0m\n\u001b[1;32m    104\u001b[0m             \u001b[0mself\u001b[0m\u001b[0;34m.\u001b[0m\u001b[0mtypes\u001b[0m\u001b[0;34m.\u001b[0m\u001b[0minsert\u001b[0m\u001b[0;34m(\u001b[0m\u001b[0mi\u001b[0m\u001b[0;34m,\u001b[0m \u001b[0mtokens\u001b[0m\u001b[0;34m[\u001b[0m\u001b[0mcurrentToken\u001b[0m\u001b[0;34m]\u001b[0m\u001b[0;34m)\u001b[0m\u001b[0;34m\u001b[0m\u001b[0;34m\u001b[0m\u001b[0m\n\u001b[1;32m    105\u001b[0m             \u001b[0mcurrentToken\u001b[0m \u001b[0;34m+=\u001b[0m \u001b[0;36m5\u001b[0m\u001b[0;34m\u001b[0m\u001b[0;34m\u001b[0m\u001b[0m\n\u001b[0;32m--> 106\u001b[0;31m             \u001b[0mself\u001b[0m\u001b[0;34m.\u001b[0m\u001b[0mcargas\u001b[0m\u001b[0;34m.\u001b[0m\u001b[0minsert\u001b[0m\u001b[0;34m(\u001b[0m\u001b[0mi\u001b[0m\u001b[0;34m,\u001b[0m \u001b[0mtokens\u001b[0m\u001b[0;34m[\u001b[0m\u001b[0mcurrentToken\u001b[0m\u001b[0;34m]\u001b[0m\u001b[0;34m)\u001b[0m\u001b[0;34m\u001b[0m\u001b[0;34m\u001b[0m\u001b[0m\n\u001b[0m\u001b[1;32m    107\u001b[0m             \u001b[0mcurrentLine\u001b[0m \u001b[0;34m+=\u001b[0m \u001b[0;36m1\u001b[0m\u001b[0;34m\u001b[0m\u001b[0;34m\u001b[0m\u001b[0m\n\u001b[1;32m    108\u001b[0m             \u001b[0mline\u001b[0m \u001b[0;34m=\u001b[0m \u001b[0minput\u001b[0m\u001b[0;34m[\u001b[0m\u001b[0mcurrentLine\u001b[0m\u001b[0;34m]\u001b[0m\u001b[0;34m\u001b[0m\u001b[0;34m\u001b[0m\u001b[0m\n",
      "\u001b[0;31mIndexError\u001b[0m: list index out of range"
     ]
    }
   ],
   "source": [
    "# for i in range(len(groFiles)):\n",
    "i=0\n",
    "print(groFiles[i], topFiles[i], itpFiles[i])\n",
    "matrix = MatrixGenerate(groFiles[i], topFiles[i], itpFiles[i])\n",
    "#     minimos[0] = min(minimos[0], matrix.minimos[0])\n",
    "#     minimos[1] = min(minimos[1], matrix.minimos[1])\n",
    "#     minimos[2] = min(minimos[2], matrix.minimos[2])\n",
    "#     maximos[0] = max(maximos[0], matrix.maximos[0])\n",
    "#     maximos[1] = max(maximos[1], matrix.maximos[1])\n",
    "#     maximos[2] = max(maximos[2], matrix.maximos[2])\n",
    "#     matrices.append(matrix)"
   ]
  }
 ],
 "metadata": {
  "anaconda-cloud": {},
  "kernelspec": {
   "display_name": "Python 3",
   "language": "python",
   "name": "python3"
  },
  "language_info": {
   "codemirror_mode": {
    "name": "ipython",
    "version": 3
   },
   "file_extension": ".py",
   "mimetype": "text/x-python",
   "name": "python",
   "nbconvert_exporter": "python",
   "pygments_lexer": "ipython3",
   "version": "3.6.7"
  }
 },
 "nbformat": 4,
 "nbformat_minor": 1
}
