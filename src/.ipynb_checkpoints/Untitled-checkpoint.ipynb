{
 "cells": [
  {
   "cell_type": "code",
   "execution_count": 3,
   "metadata": {
    "collapsed": false
   },
   "outputs": [
    {
     "name": "stdout",
     "output_type": "stream",
     "text": [
      "Usage: lqtagrid.py [OPTIONS]\r\n",
      "\r\n",
      "Error: Missing option \"--mols\".\r\n"
     ]
    }
   ],
   "source": [
    "!python lqtagrid.py"
   ]
  },
  {
   "cell_type": "code",
   "execution_count": 8,
   "metadata": {
    "collapsed": true
   },
   "outputs": [],
   "source": [
    "import pandas as pd"
   ]
  },
  {
   "cell_type": "code",
   "execution_count": 6,
   "metadata": {
    "collapsed": false
   },
   "outputs": [],
   "source": [
    "m = [[1,2,3],[4,5,6]]"
   ]
  },
  {
   "cell_type": "code",
   "execution_count": 7,
   "metadata": {
    "collapsed": false
   },
   "outputs": [
    {
     "data": {
      "text/plain": [
       "[[1, 2, 3], [4, 5, 6]]"
      ]
     },
     "execution_count": 7,
     "metadata": {},
     "output_type": "execute_result"
    }
   ],
   "source": [
    "m"
   ]
  },
  {
   "cell_type": "code",
   "execution_count": 8,
   "metadata": {
    "collapsed": true
   },
   "outputs": [],
   "source": [
    "df = pd.DataFrame(m)"
   ]
  },
  {
   "cell_type": "code",
   "execution_count": 9,
   "metadata": {
    "collapsed": false
   },
   "outputs": [
    {
     "data": {
      "text/html": [
       "<div>\n",
       "<table border=\"1\" class=\"dataframe\">\n",
       "  <thead>\n",
       "    <tr style=\"text-align: right;\">\n",
       "      <th></th>\n",
       "      <th>0</th>\n",
       "      <th>1</th>\n",
       "      <th>2</th>\n",
       "    </tr>\n",
       "  </thead>\n",
       "  <tbody>\n",
       "    <tr>\n",
       "      <th>0</th>\n",
       "      <td>1</td>\n",
       "      <td>2</td>\n",
       "      <td>3</td>\n",
       "    </tr>\n",
       "    <tr>\n",
       "      <th>1</th>\n",
       "      <td>4</td>\n",
       "      <td>5</td>\n",
       "      <td>6</td>\n",
       "    </tr>\n",
       "  </tbody>\n",
       "</table>\n",
       "</div>"
      ],
      "text/plain": [
       "   0  1  2\n",
       "0  1  2  3\n",
       "1  4  5  6"
      ]
     },
     "execution_count": 9,
     "metadata": {},
     "output_type": "execute_result"
    }
   ],
   "source": [
    "df"
   ]
  },
  {
   "cell_type": "code",
   "execution_count": 11,
   "metadata": {
    "collapsed": false
   },
   "outputs": [
    {
     "data": {
      "text/plain": [
       "array([[1, 2, 3],\n",
       "       [4, 5, 6]])"
      ]
     },
     "execution_count": 11,
     "metadata": {},
     "output_type": "execute_result"
    }
   ],
   "source": [
    "df.values"
   ]
  },
  {
   "cell_type": "code",
   "execution_count": 6,
   "metadata": {
    "collapsed": false
   },
   "outputs": [],
   "source": [
    "!python lqtagrid.py --mols \"/home/jpam/teste_lqtagridpy/arquivos\" -c 2 2 2 -d 3 3 3 -a \"NH3+\" -s 0.5 -o \"/home/jpam/teste_lqtagridpy/saida\""
   ]
  },
  {
   "cell_type": "code",
   "execution_count": 14,
   "metadata": {
    "collapsed": false
   },
   "outputs": [
    {
     "data": {
      "text/plain": [
       "'teste'"
      ]
     },
     "execution_count": 14,
     "metadata": {},
     "output_type": "execute_result"
    }
   ],
   "source": [
    "'teste.gro'.replace('.gro','')"
   ]
  },
  {
   "cell_type": "code",
   "execution_count": 9,
   "metadata": {
    "collapsed": false
   },
   "outputs": [],
   "source": [
    "df = pd.DataFrame()"
   ]
  },
  {
   "cell_type": "code",
   "execution_count": 12,
   "metadata": {
    "collapsed": true
   },
   "outputs": [],
   "source": [
    "df = pd.read_csv('/home/jpam/teste_lqtagridpy/arquivos/saida.csv', sep = ';')"
   ]
  },
  {
   "cell_type": "code",
   "execution_count": 13,
   "metadata": {
    "collapsed": false
   },
   "outputs": [
    {
     "data": {
      "text/html": [
       "<div>\n",
       "<table border=\"1\" class=\"dataframe\">\n",
       "  <thead>\n",
       "    <tr style=\"text-align: right;\">\n",
       "      <th></th>\n",
       "      <th>Unnamed: 0</th>\n",
       "      <th>2.00_2.00_2.00_NH3+_C:</th>\n",
       "      <th>2.00_2.00_2.50_NH3+_C:</th>\n",
       "      <th>2.00_2.00_3.00_NH3+_C:</th>\n",
       "      <th>2.00_2.00_3.50_NH3+_C:</th>\n",
       "      <th>2.00_2.00_4.00_NH3+_C:</th>\n",
       "      <th>2.00_2.00_4.50_NH3+_C:</th>\n",
       "      <th>2.00_2.00_5.00_NH3+_C:</th>\n",
       "      <th>2.00_2.50_2.00_NH3+_C:</th>\n",
       "      <th>2.00_2.50_2.50_NH3+_C:</th>\n",
       "      <th>...</th>\n",
       "      <th>5.00_4.50_4.00_NH3+_C:</th>\n",
       "      <th>5.00_4.50_4.50_NH3+_C:</th>\n",
       "      <th>5.00_4.50_5.00_NH3+_C:</th>\n",
       "      <th>5.00_5.00_2.00_NH3+_C:</th>\n",
       "      <th>5.00_5.00_2.50_NH3+_C:</th>\n",
       "      <th>5.00_5.00_3.00_NH3+_C:</th>\n",
       "      <th>5.00_5.00_3.50_NH3+_C:</th>\n",
       "      <th>5.00_5.00_4.00_NH3+_C:</th>\n",
       "      <th>5.00_5.00_4.50_NH3+_C:</th>\n",
       "      <th>5.00_5.00_5.00_NH3+_C:</th>\n",
       "    </tr>\n",
       "  </thead>\n",
       "  <tbody>\n",
       "    <tr>\n",
       "      <th>0</th>\n",
       "      <td>1dftm_PAC</td>\n",
       "      <td>0.248949</td>\n",
       "      <td>0.267860</td>\n",
       "      <td>0.236497</td>\n",
       "      <td>0.222343</td>\n",
       "      <td>0.190401</td>\n",
       "      <td>0.206850</td>\n",
       "      <td>0.259446</td>\n",
       "      <td>0.268141</td>\n",
       "      <td>0.283485</td>\n",
       "      <td>...</td>\n",
       "      <td>-0.016081</td>\n",
       "      <td>0.017434</td>\n",
       "      <td>0.114324</td>\n",
       "      <td>0.170971</td>\n",
       "      <td>0.192697</td>\n",
       "      <td>0.157408</td>\n",
       "      <td>0.142167</td>\n",
       "      <td>0.107164</td>\n",
       "      <td>0.125381</td>\n",
       "      <td>0.182751</td>\n",
       "    </tr>\n",
       "    <tr>\n",
       "      <th>1</th>\n",
       "      <td>2dftm_PAC</td>\n",
       "      <td>2.101483</td>\n",
       "      <td>2.061713</td>\n",
       "      <td>2.113303</td>\n",
       "      <td>2.119058</td>\n",
       "      <td>2.110606</td>\n",
       "      <td>2.118290</td>\n",
       "      <td>2.084106</td>\n",
       "      <td>1.949105</td>\n",
       "      <td>1.919380</td>\n",
       "      <td>...</td>\n",
       "      <td>2.267882</td>\n",
       "      <td>2.275411</td>\n",
       "      <td>2.223210</td>\n",
       "      <td>1.933600</td>\n",
       "      <td>1.903905</td>\n",
       "      <td>1.941346</td>\n",
       "      <td>1.943825</td>\n",
       "      <td>1.931649</td>\n",
       "      <td>1.940689</td>\n",
       "      <td>1.920979</td>\n",
       "    </tr>\n",
       "    <tr>\n",
       "      <th>2</th>\n",
       "      <td>3dftm_PAC</td>\n",
       "      <td>2.382713</td>\n",
       "      <td>2.339751</td>\n",
       "      <td>2.398675</td>\n",
       "      <td>2.410544</td>\n",
       "      <td>2.420915</td>\n",
       "      <td>2.418039</td>\n",
       "      <td>2.362963</td>\n",
       "      <td>2.283191</td>\n",
       "      <td>2.246327</td>\n",
       "      <td>...</td>\n",
       "      <td>2.456013</td>\n",
       "      <td>2.452870</td>\n",
       "      <td>2.391894</td>\n",
       "      <td>2.238507</td>\n",
       "      <td>2.203150</td>\n",
       "      <td>2.251273</td>\n",
       "      <td>2.260433</td>\n",
       "      <td>2.267083</td>\n",
       "      <td>2.265767</td>\n",
       "      <td>2.222379</td>\n",
       "    </tr>\n",
       "    <tr>\n",
       "      <th>3</th>\n",
       "      <td>4dftm_PAC</td>\n",
       "      <td>1.238017</td>\n",
       "      <td>1.142796</td>\n",
       "      <td>1.284942</td>\n",
       "      <td>1.330811</td>\n",
       "      <td>1.417422</td>\n",
       "      <td>1.375139</td>\n",
       "      <td>1.190494</td>\n",
       "      <td>1.217926</td>\n",
       "      <td>1.135251</td>\n",
       "      <td>...</td>\n",
       "      <td>1.337090</td>\n",
       "      <td>1.287128</td>\n",
       "      <td>1.074749</td>\n",
       "      <td>1.134711</td>\n",
       "      <td>1.053097</td>\n",
       "      <td>1.174726</td>\n",
       "      <td>1.213724</td>\n",
       "      <td>1.287094</td>\n",
       "      <td>1.251314</td>\n",
       "      <td>1.094052</td>\n",
       "    </tr>\n",
       "  </tbody>\n",
       "</table>\n",
       "<p>4 rows × 344 columns</p>\n",
       "</div>"
      ],
      "text/plain": [
       "  Unnamed: 0  2.00_2.00_2.00_NH3+_C:  2.00_2.00_2.50_NH3+_C:  \\\n",
       "0  1dftm_PAC                0.248949                0.267860   \n",
       "1  2dftm_PAC                2.101483                2.061713   \n",
       "2  3dftm_PAC                2.382713                2.339751   \n",
       "3  4dftm_PAC                1.238017                1.142796   \n",
       "\n",
       "   2.00_2.00_3.00_NH3+_C:  2.00_2.00_3.50_NH3+_C:  2.00_2.00_4.00_NH3+_C:  \\\n",
       "0                0.236497                0.222343                0.190401   \n",
       "1                2.113303                2.119058                2.110606   \n",
       "2                2.398675                2.410544                2.420915   \n",
       "3                1.284942                1.330811                1.417422   \n",
       "\n",
       "   2.00_2.00_4.50_NH3+_C:  2.00_2.00_5.00_NH3+_C:  2.00_2.50_2.00_NH3+_C:  \\\n",
       "0                0.206850                0.259446                0.268141   \n",
       "1                2.118290                2.084106                1.949105   \n",
       "2                2.418039                2.362963                2.283191   \n",
       "3                1.375139                1.190494                1.217926   \n",
       "\n",
       "   2.00_2.50_2.50_NH3+_C:           ...            5.00_4.50_4.00_NH3+_C:  \\\n",
       "0                0.283485           ...                         -0.016081   \n",
       "1                1.919380           ...                          2.267882   \n",
       "2                2.246327           ...                          2.456013   \n",
       "3                1.135251           ...                          1.337090   \n",
       "\n",
       "   5.00_4.50_4.50_NH3+_C:  5.00_4.50_5.00_NH3+_C:  5.00_5.00_2.00_NH3+_C:  \\\n",
       "0                0.017434                0.114324                0.170971   \n",
       "1                2.275411                2.223210                1.933600   \n",
       "2                2.452870                2.391894                2.238507   \n",
       "3                1.287128                1.074749                1.134711   \n",
       "\n",
       "   5.00_5.00_2.50_NH3+_C:  5.00_5.00_3.00_NH3+_C:  5.00_5.00_3.50_NH3+_C:  \\\n",
       "0                0.192697                0.157408                0.142167   \n",
       "1                1.903905                1.941346                1.943825   \n",
       "2                2.203150                2.251273                2.260433   \n",
       "3                1.053097                1.174726                1.213724   \n",
       "\n",
       "   5.00_5.00_4.00_NH3+_C:  5.00_5.00_4.50_NH3+_C:  5.00_5.00_5.00_NH3+_C:  \n",
       "0                0.107164                0.125381                0.182751  \n",
       "1                1.931649                1.940689                1.920979  \n",
       "2                2.267083                2.265767                2.222379  \n",
       "3                1.287094                1.251314                1.094052  \n",
       "\n",
       "[4 rows x 344 columns]"
      ]
     },
     "execution_count": 13,
     "metadata": {},
     "output_type": "execute_result"
    }
   ],
   "source": [
    "df.head()"
   ]
  },
  {
   "cell_type": "code",
   "execution_count": 14,
   "metadata": {
    "collapsed": false
   },
   "outputs": [
    {
     "ename": "TypeError",
     "evalue": "'numpy.ndarray' object is not callable",
     "output_type": "error",
     "traceback": [
      "\u001b[0;31m---------------------------------------------------------------------------\u001b[0m",
      "\u001b[0;31mTypeError\u001b[0m                                 Traceback (most recent call last)",
      "\u001b[0;32m<ipython-input-14-8e9714b76ea1>\u001b[0m in \u001b[0;36m<module>\u001b[0;34m()\u001b[0m\n\u001b[0;32m----> 1\u001b[0;31m \u001b[0mdf\u001b[0m\u001b[0;34m.\u001b[0m\u001b[0mvalues\u001b[0m\u001b[0;34m(\u001b[0m\u001b[0;34m)\u001b[0m\u001b[0;34m\u001b[0m\u001b[0m\n\u001b[0m",
      "\u001b[0;31mTypeError\u001b[0m: 'numpy.ndarray' object is not callable"
     ]
    }
   ],
   "source": [
    "df.values()"
   ]
  },
  {
   "cell_type": "code",
   "execution_count": 15,
   "metadata": {
    "collapsed": false
   },
   "outputs": [
    {
     "data": {
      "text/plain": [
       "array([['1dftm_PAC', 0.2489490950055616, 0.2678601220358057, ...,\n",
       "        0.10716380428438466, 0.12538091484177674, 0.18275116280187367],\n",
       "       ['2dftm_PAC', 2.1014833011011005, 2.0617130685401914, ...,\n",
       "        1.9316487321671412, 1.9406888538027784, 1.9209791213807004],\n",
       "       ['3dftm_PAC', 2.3827126940054595, 2.339751174995402, ...,\n",
       "        2.267082993071111, 2.265766509620188, 2.2223793212678284],\n",
       "       ['4dftm_PAC', 1.2380170971789823, 1.1427958998521288, ...,\n",
       "        1.2870940290041877, 1.2513142594544329, 1.094051992299359]], dtype=object)"
      ]
     },
     "execution_count": 15,
     "metadata": {},
     "output_type": "execute_result"
    }
   ],
   "source": [
    "df.get_values()"
   ]
  },
  {
   "cell_type": "code",
   "execution_count": null,
   "metadata": {
    "collapsed": true
   },
   "outputs": [],
   "source": []
  }
 ],
 "metadata": {
  "anaconda-cloud": {},
  "kernelspec": {
   "display_name": "Python [default]",
   "language": "python",
   "name": "python3"
  },
  "language_info": {
   "codemirror_mode": {
    "name": "ipython",
    "version": 3
   },
   "file_extension": ".py",
   "mimetype": "text/x-python",
   "name": "python",
   "nbconvert_exporter": "python",
   "pygments_lexer": "ipython3",
   "version": "3.5.2"
  }
 },
 "nbformat": 4,
 "nbformat_minor": 1
}
